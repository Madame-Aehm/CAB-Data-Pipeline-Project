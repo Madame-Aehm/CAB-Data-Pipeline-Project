{
 "cells": [
  {
   "cell_type": "code",
   "execution_count": 29,
   "metadata": {},
   "outputs": [
    {
     "data": {
      "text/plain": [
       "True"
      ]
     },
     "execution_count": 29,
     "metadata": {},
     "output_type": "execute_result"
    }
   ],
   "source": [
    "import pandas as pd\n",
    "import psycopg\n",
    "from dotenv import load_dotenv\n",
    "import os\n",
    "\n",
    "load_dotenv()"
   ]
  },
  {
   "cell_type": "code",
   "execution_count": 60,
   "metadata": {},
   "outputs": [],
   "source": [
    "dbconn = os.getenv(\"DBCONN\")\n",
    "conn = psycopg.connect(dbconn)\n",
    "cur = conn.cursor()"
   ]
  },
  {
   "cell_type": "code",
   "execution_count": 43,
   "metadata": {},
   "outputs": [
    {
     "ename": "InFailedSqlTransaction",
     "evalue": "current transaction is aborted, commands ignored until end of transaction block",
     "output_type": "error",
     "traceback": [
      "\u001b[1;31m---------------------------------------------------------------------------\u001b[0m",
      "\u001b[1;31mInFailedSqlTransaction\u001b[0m                    Traceback (most recent call last)",
      "Cell \u001b[1;32mIn[43], line 1\u001b[0m\n\u001b[1;32m----> 1\u001b[0m \u001b[43mcur\u001b[49m\u001b[38;5;241;43m.\u001b[39;49m\u001b[43mexecute\u001b[49m\u001b[43m(\u001b[49m\u001b[38;5;124;43m'''\u001b[39;49m\n\u001b[0;32m      2\u001b[0m \u001b[38;5;124;43m  SELECT * FROM financial_times_scaped;\u001b[39;49m\n\u001b[0;32m      3\u001b[0m \u001b[38;5;124;43m'''\u001b[39;49m\u001b[43m)\u001b[49m\n\u001b[0;32m      4\u001b[0m data \u001b[38;5;241m=\u001b[39m cur\u001b[38;5;241m.\u001b[39mfetchall()\n\u001b[0;32m      5\u001b[0m ft_data \u001b[38;5;241m=\u001b[39m pd\u001b[38;5;241m.\u001b[39mDataFrame(data, columns\u001b[38;5;241m=\u001b[39m[\u001b[38;5;124m\"\u001b[39m\u001b[38;5;124mtag\u001b[39m\u001b[38;5;124m\"\u001b[39m, \u001b[38;5;124m\"\u001b[39m\u001b[38;5;124mlink\u001b[39m\u001b[38;5;124m\"\u001b[39m, \u001b[38;5;124m\"\u001b[39m\u001b[38;5;124mheading\u001b[39m\u001b[38;5;124m\"\u001b[39m, \u001b[38;5;124m\"\u001b[39m\u001b[38;5;124mteaser\u001b[39m\u001b[38;5;124m\"\u001b[39m, \u001b[38;5;124m\"\u001b[39m\u001b[38;5;124mdate\u001b[39m\u001b[38;5;124m\"\u001b[39m])\n",
      "File \u001b[1;32mc:\\Users\\emily\\anaconda3\\envs\\CAB_Module_3\\Lib\\site-packages\\psycopg\\cursor.py:97\u001b[0m, in \u001b[0;36mCursor.execute\u001b[1;34m(self, query, params, prepare, binary)\u001b[0m\n\u001b[0;32m     93\u001b[0m         \u001b[38;5;28mself\u001b[39m\u001b[38;5;241m.\u001b[39m_conn\u001b[38;5;241m.\u001b[39mwait(\n\u001b[0;32m     94\u001b[0m             \u001b[38;5;28mself\u001b[39m\u001b[38;5;241m.\u001b[39m_execute_gen(query, params, prepare\u001b[38;5;241m=\u001b[39mprepare, binary\u001b[38;5;241m=\u001b[39mbinary)\n\u001b[0;32m     95\u001b[0m         )\n\u001b[0;32m     96\u001b[0m \u001b[38;5;28;01mexcept\u001b[39;00m e\u001b[38;5;241m.\u001b[39m_NO_TRACEBACK \u001b[38;5;28;01mas\u001b[39;00m ex:\n\u001b[1;32m---> 97\u001b[0m     \u001b[38;5;28;01mraise\u001b[39;00m ex\u001b[38;5;241m.\u001b[39mwith_traceback(\u001b[38;5;28;01mNone\u001b[39;00m)\n\u001b[0;32m     98\u001b[0m \u001b[38;5;28;01mreturn\u001b[39;00m \u001b[38;5;28mself\u001b[39m\n",
      "\u001b[1;31mInFailedSqlTransaction\u001b[0m: current transaction is aborted, commands ignored until end of transaction block"
     ]
    }
   ],
   "source": [
    "cur.execute('''\n",
    "  SELECT * FROM financial_times_scaped;\n",
    "''')\n",
    "data = cur.fetchall()\n",
    "ft_data = pd.DataFrame(data, columns=[\"tag\", \"link\", \"heading\", \"teaser\", \"date\"])\n",
    "ft_data.head()"
   ]
  },
  {
   "cell_type": "code",
   "execution_count": 32,
   "metadata": {},
   "outputs": [
    {
     "name": "stdout",
     "output_type": "stream",
     "text": [
      "2025-01-23\n"
     ]
    },
    {
     "data": {
      "text/html": [
       "<div>\n",
       "<style scoped>\n",
       "    .dataframe tbody tr th:only-of-type {\n",
       "        vertical-align: middle;\n",
       "    }\n",
       "\n",
       "    .dataframe tbody tr th {\n",
       "        vertical-align: top;\n",
       "    }\n",
       "\n",
       "    .dataframe thead th {\n",
       "        text-align: right;\n",
       "    }\n",
       "</style>\n",
       "<table border=\"1\" class=\"dataframe\">\n",
       "  <thead>\n",
       "    <tr style=\"text-align: right;\">\n",
       "      <th></th>\n",
       "      <th>tag</th>\n",
       "      <th>link</th>\n",
       "      <th>heading</th>\n",
       "      <th>teaser</th>\n",
       "      <th>date</th>\n",
       "    </tr>\n",
       "  </thead>\n",
       "  <tbody>\n",
       "    <tr>\n",
       "      <th>1780</th>\n",
       "      <td>Cryptocurrencies</td>\n",
       "      <td>https://www.ft.com/content/09ff42ca-925d-49f3-...</td>\n",
       "      <td>Crypto executive freed after kidnap in France</td>\n",
       "      <td>Assailants demanded large ransom after abducti...</td>\n",
       "      <td>2025-01-23</td>\n",
       "    </tr>\n",
       "    <tr>\n",
       "      <th>1781</th>\n",
       "      <td>Rene Benko</td>\n",
       "      <td>https://www.ft.com/content/361b3461-a621-4b99-...</td>\n",
       "      <td>Property tycoon René Benko arrested in Austria</td>\n",
       "      <td>Signa founder taken into custody more than a y...</td>\n",
       "      <td>2025-01-23</td>\n",
       "    </tr>\n",
       "    <tr>\n",
       "      <th>1782</th>\n",
       "      <td>Asia-Pacific economy</td>\n",
       "      <td>https://www.ft.com/content/05cf69f5-0105-482d-...</td>\n",
       "      <td>FirstFT: Japanese megabanks hit valuation land...</td>\n",
       "      <td>Also in today’s newsletter, a record number of...</td>\n",
       "      <td>2025-01-23</td>\n",
       "    </tr>\n",
       "    <tr>\n",
       "      <th>1783</th>\n",
       "      <td>Unhedged Podcast</td>\n",
       "      <td>https://www.ft.com/content/90a0c321-3cb1-412c-...</td>\n",
       "      <td>Decoding Trumponomics</td>\n",
       "      <td>Investors are trying to figure out an unusual ...</td>\n",
       "      <td>2025-01-23</td>\n",
       "    </tr>\n",
       "    <tr>\n",
       "      <th>1784</th>\n",
       "      <td>Japanese business &amp; finance</td>\n",
       "      <td>https://www.ft.com/content/03434d53-f6b6-4db6-...</td>\n",
       "      <td>Japan’s biggest banks hit valuation landmark a...</td>\n",
       "      <td>Largest lenders now trade at or close to their...</td>\n",
       "      <td>2025-01-23</td>\n",
       "    </tr>\n",
       "  </tbody>\n",
       "</table>\n",
       "</div>"
      ],
      "text/plain": [
       "                              tag  \\\n",
       "1780             Cryptocurrencies   \n",
       "1781                   Rene Benko   \n",
       "1782         Asia-Pacific economy   \n",
       "1783             Unhedged Podcast   \n",
       "1784  Japanese business & finance   \n",
       "\n",
       "                                                   link  \\\n",
       "1780  https://www.ft.com/content/09ff42ca-925d-49f3-...   \n",
       "1781  https://www.ft.com/content/361b3461-a621-4b99-...   \n",
       "1782  https://www.ft.com/content/05cf69f5-0105-482d-...   \n",
       "1783  https://www.ft.com/content/90a0c321-3cb1-412c-...   \n",
       "1784  https://www.ft.com/content/03434d53-f6b6-4db6-...   \n",
       "\n",
       "                                                heading  \\\n",
       "1780      Crypto executive freed after kidnap in France   \n",
       "1781     Property tycoon René Benko arrested in Austria   \n",
       "1782  FirstFT: Japanese megabanks hit valuation land...   \n",
       "1783                              Decoding Trumponomics   \n",
       "1784  Japan’s biggest banks hit valuation landmark a...   \n",
       "\n",
       "                                                 teaser       date  \n",
       "1780  Assailants demanded large ransom after abducti... 2025-01-23  \n",
       "1781  Signa founder taken into custody more than a y... 2025-01-23  \n",
       "1782  Also in today’s newsletter, a record number of... 2025-01-23  \n",
       "1783  Investors are trying to figure out an unusual ... 2025-01-23  \n",
       "1784  Largest lenders now trade at or close to their... 2025-01-23  "
      ]
     },
     "execution_count": 32,
     "metadata": {},
     "output_type": "execute_result"
    }
   ],
   "source": [
    "from datetime import datetime, timedelta\n",
    "\n",
    "yesterday = (datetime.today() - timedelta(days=1)).strftime('%Y-%m-%d')\n",
    "print(yesterday)\n",
    "ft_data[ft_data[\"date\"].dt.strftime('%Y-%m-%d') == yesterday]\n"
   ]
  },
  {
   "cell_type": "code",
   "execution_count": 33,
   "metadata": {},
   "outputs": [
    {
     "data": {
      "text/html": [
       "<div>\n",
       "<style scoped>\n",
       "    .dataframe tbody tr th:only-of-type {\n",
       "        vertical-align: middle;\n",
       "    }\n",
       "\n",
       "    .dataframe tbody tr th {\n",
       "        vertical-align: top;\n",
       "    }\n",
       "\n",
       "    .dataframe thead th {\n",
       "        text-align: right;\n",
       "    }\n",
       "</style>\n",
       "<table border=\"1\" class=\"dataframe\">\n",
       "  <thead>\n",
       "    <tr style=\"text-align: right;\">\n",
       "      <th></th>\n",
       "      <th>tag</th>\n",
       "      <th>link</th>\n",
       "      <th>heading</th>\n",
       "      <th>teaser</th>\n",
       "      <th>date</th>\n",
       "    </tr>\n",
       "  </thead>\n",
       "  <tbody>\n",
       "    <tr>\n",
       "      <th>0</th>\n",
       "      <td>Inauguration live: Donald Trump to stop short ...</td>\n",
       "      <td>/content/a6ced7bd-3942-4ab9-a8c1-9e19e0809153#...</td>\n",
       "      <td>Bitcoin surges to new high in Trump rally</td>\n",
       "      <td>The price of bitcoin surged to a new all-time ...</td>\n",
       "      <td>2025-01-20</td>\n",
       "    </tr>\n",
       "    <tr>\n",
       "      <th>1</th>\n",
       "      <td>Technology sector</td>\n",
       "      <td>https://www.ft.com/content/5acb33a2-4690-4f56-...</td>\n",
       "      <td>Quantum Blockchain mines bitcoin with AI and w...</td>\n",
       "      <td>Paging the AI Oracle</td>\n",
       "      <td>2025-01-20</td>\n",
       "    </tr>\n",
       "    <tr>\n",
       "      <th>2</th>\n",
       "      <td>eToro Europe Ltd</td>\n",
       "      <td>https://www.ft.com/content/d438376f-a6a3-4c94-...</td>\n",
       "      <td>IPO hopeful eToro grabs market bull by the horns</td>\n",
       "      <td>Israel-based company seeks to take advantage o...</td>\n",
       "      <td>2025-01-20</td>\n",
       "    </tr>\n",
       "    <tr>\n",
       "      <th>3</th>\n",
       "      <td>Cryptocurrencies</td>\n",
       "      <td>https://www.ft.com/content/d9e383a5-b13c-47bf-...</td>\n",
       "      <td>What’s the value of Trump’s new memecoin?</td>\n",
       "      <td>Crypto-offerings from the president and his fa...</td>\n",
       "      <td>2025-01-20</td>\n",
       "    </tr>\n",
       "    <tr>\n",
       "      <th>4</th>\n",
       "      <td>Transcript</td>\n",
       "      <td>https://www.ft.com/content/aa8b6d70-297f-47a1-...</td>\n",
       "      <td>Transcript: Trump returns to the White House</td>\n",
       "      <td>Kasia Broussalian talks to Will Schmitt and Mi...</td>\n",
       "      <td>2025-01-20</td>\n",
       "    </tr>\n",
       "  </tbody>\n",
       "</table>\n",
       "</div>"
      ],
      "text/plain": [
       "                                                 tag  \\\n",
       "0  Inauguration live: Donald Trump to stop short ...   \n",
       "1                                  Technology sector   \n",
       "2                                   eToro Europe Ltd   \n",
       "3                                   Cryptocurrencies   \n",
       "4                                         Transcript   \n",
       "\n",
       "                                                link  \\\n",
       "0  /content/a6ced7bd-3942-4ab9-a8c1-9e19e0809153#...   \n",
       "1  https://www.ft.com/content/5acb33a2-4690-4f56-...   \n",
       "2  https://www.ft.com/content/d438376f-a6a3-4c94-...   \n",
       "3  https://www.ft.com/content/d9e383a5-b13c-47bf-...   \n",
       "4  https://www.ft.com/content/aa8b6d70-297f-47a1-...   \n",
       "\n",
       "                                             heading  \\\n",
       "0          Bitcoin surges to new high in Trump rally   \n",
       "1  Quantum Blockchain mines bitcoin with AI and w...   \n",
       "2   IPO hopeful eToro grabs market bull by the horns   \n",
       "3          What’s the value of Trump’s new memecoin?   \n",
       "4       Transcript: Trump returns to the White House   \n",
       "\n",
       "                                              teaser        date  \n",
       "0  The price of bitcoin surged to a new all-time ...  2025-01-20  \n",
       "1                               Paging the AI Oracle  2025-01-20  \n",
       "2  Israel-based company seeks to take advantage o...  2025-01-20  \n",
       "3  Crypto-offerings from the president and his fa...  2025-01-20  \n",
       "4  Kasia Broussalian talks to Will Schmitt and Mi...  2025-01-20  "
      ]
     },
     "execution_count": 33,
     "metadata": {},
     "output_type": "execute_result"
    }
   ],
   "source": [
    "ft_data[\"date\"] = ft_data[\"date\"].dt.strftime('%Y-%m-%d')\n",
    "ft_data.head()"
   ]
  },
  {
   "cell_type": "code",
   "execution_count": 58,
   "metadata": {},
   "outputs": [
    {
     "data": {
      "text/plain": [
       "datetime.datetime(2025, 1, 17, 14, 20, 52, 268133)"
      ]
     },
     "execution_count": 58,
     "metadata": {},
     "output_type": "execute_result"
    }
   ],
   "source": [
    "from datetime import datetime as dt\n",
    "\n",
    "last_week = (dt.today() - timedelta(days=7))\n",
    "last_week"
   ]
  },
  {
   "cell_type": "code",
   "execution_count": 61,
   "metadata": {},
   "outputs": [
    {
     "data": {
      "text/plain": [
       "<psycopg.Cursor [TUPLES_OK] [INTRANS] (host=roundhouse.proxy.rlwy.net port=40356 user=postgres database=railway) at 0x2dbefd2a2a0>"
      ]
     },
     "execution_count": 61,
     "metadata": {},
     "output_type": "execute_result"
    }
   ],
   "source": [
    "test = '2025-01-17'\n",
    "\n",
    "cur.execute('''\n",
    "    SELECT * FROM financial_times_scaped WHERE date > LOCALTIMESTAMP - INTERVAL '14 days';\n",
    "  ''')"
   ]
  },
  {
   "cell_type": "code",
   "execution_count": null,
   "metadata": {},
   "outputs": [],
   "source": []
  },
  {
   "cell_type": "code",
   "execution_count": 59,
   "metadata": {},
   "outputs": [],
   "source": [
    "cur.close()\n",
    "conn.close()"
   ]
  },
  {
   "cell_type": "code",
   "execution_count": null,
   "metadata": {},
   "outputs": [],
   "source": [
    "cur.execute('''\n",
    "  SELECT * FROM bitcoin_api_data;\n",
    "''')\n",
    "data = cur.fetchall()\n",
    "av_data = pd.DataFrame(data, columns=[\"date\", \"open\", \"high\", \"low\", \"close\", \"volume\"])\n",
    "av_data"
   ]
  }
 ],
 "metadata": {
  "kernelspec": {
   "display_name": "CAB_Module_3",
   "language": "python",
   "name": "python3"
  },
  "language_info": {
   "codemirror_mode": {
    "name": "ipython",
    "version": 3
   },
   "file_extension": ".py",
   "mimetype": "text/x-python",
   "name": "python",
   "nbconvert_exporter": "python",
   "pygments_lexer": "ipython3",
   "version": "3.11.9"
  }
 },
 "nbformat": 4,
 "nbformat_minor": 2
}
