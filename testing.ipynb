{
 "cells": [
  {
   "cell_type": "code",
   "execution_count": 1,
   "metadata": {},
   "outputs": [],
   "source": [
    "from dotenv import load_dotenv\n",
    "import os\n",
    "import psycopg\n",
    "import pandas as pd\n",
    "\n",
    "load_dotenv()\n",
    "\n",
    "dbconn = os.getenv(\"DBCONN\")"
   ]
  },
  {
   "cell_type": "code",
   "execution_count": 8,
   "metadata": {},
   "outputs": [],
   "source": [
    "conn = psycopg.connect(dbconn)\n",
    "cur = conn.cursor()"
   ]
  },
  {
   "cell_type": "code",
   "execution_count": null,
   "metadata": {},
   "outputs": [],
   "source": [
    "conn.commit()\n",
    "cur.close()\n",
    "conn.close()"
   ]
  },
  {
   "cell_type": "code",
   "execution_count": null,
   "metadata": {},
   "outputs": [],
   "source": [
    "query = psycopg.sql.SQL('''\n",
    "    SELECT date, {field} FROM bitcoin_api_data;\n",
    "''').format(\n",
    "    field=psycopg.sql.Identifier(\"close\")\n",
    ")"
   ]
  },
  {
   "cell_type": "code",
   "execution_count": null,
   "metadata": {},
   "outputs": [],
   "source": [
    "cur.execute(query)\n",
    "\n",
    "data = cur.fetchall()\n",
    "\n",
    "data"
   ]
  },
  {
   "cell_type": "code",
   "execution_count": 11,
   "metadata": {},
   "outputs": [
    {
     "data": {
      "text/plain": [
       "datetime.datetime(2025, 4, 1, 0, 0)"
      ]
     },
     "execution_count": 11,
     "metadata": {},
     "output_type": "execute_result"
    }
   ],
   "source": [
    "from datetime import datetime as dt\n",
    "\n",
    "test_date = dt.strptime(\"Apr 1, 2025\", \"%b %d, %Y\")\n",
    "test_date"
   ]
  },
  {
   "cell_type": "code",
   "execution_count": 12,
   "metadata": {},
   "outputs": [
    {
     "data": {
      "text/plain": [
       "[('Peter Schiff to Grow Bitcoin Reserve on Public Donations',\n",
       "  'Caroline Amosun',\n",
       "  'https://u.today/peter-schiff-to-grow-bitcoin-reserve-on-public-donations',\n",
       "  datetime.date(2025, 4, 1),\n",
       "  'neutral'),\n",
       " (' Canadian Billionaire Says Bitcoin and Gold Are Very Different',\n",
       "  'Alex Dovbnya',\n",
       "  'https://u.today/canadian-billionaire-says-bitcoin-and-gold-are-very-different',\n",
       "  datetime.date(2025, 4, 1),\n",
       "  'neutral'),\n",
       " ('Bitcoin Bulls, Buckle Up: Bollinger Bands Hint at $88,000 Teleport',\n",
       "  'Gamza Khanzadaev',\n",
       "  'https://u.today/bitcoin-bulls-buckle-up-bollinger-bands-hint-at-88000-teleport',\n",
       "  datetime.date(2025, 4, 1),\n",
       "  'neutral'),\n",
       " ('Fidelity Spotlights 8-Year-Old Bullish Bitcoin Move From Japan',\n",
       "  'Godfrey Benjamin',\n",
       "  'https://u.today/fidelity-spotlights-8-year-old-bullish-bitcoin-move-from-japan',\n",
       "  datetime.date(2025, 4, 1),\n",
       "  'positive'),\n",
       " (\"Bitcoin (BTC) Records Major Volume Reversal, XRP Doesn't Really Need $2, Did Ethereum (ETH) Forget About $2,000?\",\n",
       "  'Arman Shirinyan',\n",
       "  'https://u.today/bitcoin-btc-records-major-volume-reversal-xrp-doesnt-really-need-2-did-ethereum-eth-forget-about',\n",
       "  datetime.date(2025, 4, 1),\n",
       "  'neutral'),\n",
       " (\"XRP on Verge of Big Bitcoin Move, and It's Up\",\n",
       "  'Gamza Khanzadaev',\n",
       "  'https://u.today/xrp-on-verge-of-big-bitcoin-move-and-its-up',\n",
       "  datetime.date(2025, 4, 1),\n",
       "  'positive'),\n",
       " (\"'Don't Be Fool. Buy Bitcoin,' Michael Saylor Says\",\n",
       "  'Yuri Molchan',\n",
       "  'https://u.today/dont-be-fool-buy-bitcoin-michael-saylor-says',\n",
       "  datetime.date(2025, 4, 1),\n",
       "  'neutral'),\n",
       " ('Tether Buys 8,888 Bitcoin in Epic Buy-the-Dip Strategy',\n",
       "  'Godfrey Benjamin',\n",
       "  'https://u.today/tether-buys-8888-bitcoin-in-epic-buy-the-dip-strategy',\n",
       "  datetime.date(2025, 4, 1),\n",
       "  'positive'),\n",
       " ('Bitcoin Mogul Successfully Launched into Space',\n",
       "  'Alex Dovbnya',\n",
       "  'https://u.today/bitcoin-mogul-successfully-launched-into-space',\n",
       "  datetime.date(2025, 4, 1),\n",
       "  'positive'),\n",
       " ('Top Crypto Exchanges 2025: Full Guide',\n",
       "  '',\n",
       "  'https://u.today/guides/top-crypto-exchanges-2025-full-guide',\n",
       "  datetime.date(2025, 4, 1),\n",
       "  'neutral')]"
      ]
     },
     "execution_count": 12,
     "metadata": {},
     "output_type": "execute_result"
    }
   ],
   "source": [
    "cur.execute('''\n",
    "    SELECT * FROM utoday_news WHERE date = %s;\n",
    "''', (test_date,))\n",
    "cur.fetchall()"
   ]
  }
 ],
 "metadata": {
  "kernelspec": {
   "display_name": "CAB_Module3",
   "language": "python",
   "name": "python3"
  },
  "language_info": {
   "codemirror_mode": {
    "name": "ipython",
    "version": 3
   },
   "file_extension": ".py",
   "mimetype": "text/x-python",
   "name": "python",
   "nbconvert_exporter": "python",
   "pygments_lexer": "ipython3",
   "version": "3.12.8"
  }
 },
 "nbformat": 4,
 "nbformat_minor": 2
}
