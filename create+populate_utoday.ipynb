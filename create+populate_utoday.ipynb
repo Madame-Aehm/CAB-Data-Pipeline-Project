{
 "cells": [
  {
   "cell_type": "code",
   "execution_count": 1,
   "metadata": {},
   "outputs": [
    {
     "data": {
      "text/plain": [
       "True"
      ]
     },
     "execution_count": 1,
     "metadata": {},
     "output_type": "execute_result"
    }
   ],
   "source": [
    "import requests\n",
    "import bs4\n",
    "from dotenv import load_dotenv\n",
    "import os\n",
    "import psycopg\n",
    "from datetime import datetime as dt\n",
    "\n",
    "load_dotenv()"
   ]
  },
  {
   "cell_type": "code",
   "execution_count": 43,
   "metadata": {},
   "outputs": [],
   "source": [
    "dbconn = os.getenv(\"DBCONN\")\n",
    "conn = psycopg.connect(dbconn)\n",
    "cur = conn.cursor()"
   ]
  },
  {
   "cell_type": "code",
   "execution_count": 3,
   "metadata": {},
   "outputs": [
    {
     "data": {
      "text/plain": [
       "<psycopg.Cursor [COMMAND_OK] [INTRANS] (host=db.qoleuetswfwqnqbaafpn.supabase.co database=postgres) at 0x2597869bd10>"
      ]
     },
     "execution_count": 3,
     "metadata": {},
     "output_type": "execute_result"
    }
   ],
   "source": [
    "cur.execute('''\n",
    "    CREATE TABLE IF NOT EXISTS utoday_news(\n",
    "        title VARCHAR(255),\n",
    "        author VARCHAR(255),\n",
    "        link VARCHAR(255),\n",
    "        date DATE\n",
    "    );\n",
    "''')"
   ]
  },
  {
   "cell_type": "code",
   "execution_count": 42,
   "metadata": {},
   "outputs": [],
   "source": [
    "conn.commit()"
   ]
  },
  {
   "cell_type": "code",
   "execution_count": 14,
   "metadata": {},
   "outputs": [],
   "source": [
    "cur.close()\n",
    "conn.close()"
   ]
  },
  {
   "cell_type": "code",
   "execution_count": 7,
   "metadata": {},
   "outputs": [],
   "source": [
    "response = requests.get(\"https://u.today/search/node?keys=bitcoin\")\n",
    "document = bs4.BeautifulSoup(response.text)\n",
    "news_items = document.select(\"div.search-result > .news__item\")"
   ]
  },
  {
   "cell_type": "code",
   "execution_count": 8,
   "metadata": {},
   "outputs": [
    {
     "data": {
      "text/plain": [
       "50"
      ]
     },
     "execution_count": 8,
     "metadata": {},
     "output_type": "execute_result"
    }
   ],
   "source": [
    "len(news_items)"
   ]
  },
  {
   "cell_type": "code",
   "execution_count": 9,
   "metadata": {},
   "outputs": [
    {
     "name": "stdout",
     "output_type": "stream",
     "text": [
      "value missing\n"
     ]
    }
   ],
   "source": [
    "add_to_db = []\n",
    "\n",
    "for item in news_items:\n",
    "    try: \n",
    "        data = []\n",
    "        data.append(item.select_one(\"div.news__item-title\").get_text()) # title\n",
    "        data.append(item.select_one(\"a.humble.humble--author\").get_text().split(\"\\n\")[0]) # author\n",
    "        data.append(item.select_one(\"div.humble\").get_text().split(\" - \")[0]) # date\n",
    "        data.append(item.select_one(\"a.news__item-body\")[\"href\"]) # link\n",
    "        add_to_db.append(data)\n",
    "    except: print(\"value missing\")"
   ]
  },
  {
   "cell_type": "code",
   "execution_count": 12,
   "metadata": {},
   "outputs": [
    {
     "name": "stdout",
     "output_type": "stream",
     "text": [
      "finished\n"
     ]
    }
   ],
   "source": [
    "for item in add_to_db:\n",
    "    item[2] = dt.strptime(item[2], \"%b %d, %Y\")\n",
    "    cur.execute('''\n",
    "        INSERT INTO utoday_news (title, author, date, link)\n",
    "        VALUES (%s, %s, %s, %s);\n",
    "    ''', item)\n",
    "\n",
    "print(\"finished\")"
   ]
  },
  {
   "cell_type": "code",
   "execution_count": 16,
   "metadata": {},
   "outputs": [
    {
     "data": {
      "text/plain": [
       "<psycopg.Cursor [COMMAND_OK] [INTRANS] (host=db.qoleuetswfwqnqbaafpn.supabase.co database=postgres) at 0x25979130050>"
      ]
     },
     "execution_count": 16,
     "metadata": {},
     "output_type": "execute_result"
    }
   ],
   "source": [
    "cur.execute('''\n",
    "    ALTER TABLE utoday_news\n",
    "    ADD sentiment VARCHAR(255);\n",
    "''')"
   ]
  },
  {
   "cell_type": "code",
   "execution_count": 18,
   "metadata": {},
   "outputs": [],
   "source": [
    "titles = cur.execute('''\n",
    "    SELECT title FROM utoday_news ORDER BY date DESC;\n",
    "''').fetchall()\n",
    "\n",
    "titles = [title[0] for title in titles]"
   ]
  },
  {
   "cell_type": "code",
   "execution_count": 19,
   "metadata": {},
   "outputs": [
    {
     "name": "stdout",
     "output_type": "stream",
     "text": [
      "first response <Response [200]>\n"
     ]
    }
   ],
   "source": [
    "hf_api_key = os.getenv(\"HF_API_KEY\")\n",
    "url = \"https://api-inference.huggingface.co/models/mrm8488/distilroberta-finetuned-financial-news-sentiment-analysis\"\n",
    "\n",
    "payload = { \"inputs\": titles }\n",
    "headers = { \"Authorization\": f\"Bearer {hf_api_key}\" }\n",
    "response = requests.post(url, headers=headers, json=payload)\n",
    "print(\"first response\", response)\n",
    "\n",
    "if response.status_code == 503:\n",
    "    headers[\"x-wait-for-model\"] = \"true\"\n",
    "    response = requests.post(url, headers=headers, json=payload)\n",
    "    print(\"second response\", response)"
   ]
  },
  {
   "cell_type": "code",
   "execution_count": 32,
   "metadata": {},
   "outputs": [
    {
     "name": "stdout",
     "output_type": "stream",
     "text": [
      "[\n",
      "  {\n",
      "    \"label\": \"neutral\",\n",
      "    \"score\": 0.9846206903457642\n",
      "  },\n",
      "  {\n",
      "    \"label\": \"neutral\",\n",
      "    \"score\": 0.999874472618103\n",
      "  },\n",
      "  {\n",
      "    \"label\": \"neutral\",\n",
      "    \"score\": 0.9993852376937866\n",
      "  },\n",
      "  {\n",
      "    \"label\": \"positive\",\n",
      "    \"score\": 0.9455152153968811\n",
      "  },\n",
      "  {\n",
      "    \"label\": \"positive\",\n",
      "    \"score\": 0.9992294311523438\n",
      "  },\n",
      "  {\n",
      "    \"label\": \"neutral\",\n",
      "    \"score\": 0.9998427629470825\n",
      "  },\n",
      "  {\n",
      "    \"label\": \"neutral\",\n",
      "    \"score\": 0.5809779167175293\n",
      "  },\n",
      "  {\n",
      "    \"label\": \"neutral\",\n",
      "    \"score\": 0.9993582367897034\n",
      "  },\n",
      "  {\n",
      "    \"label\": \"negative\",\n",
      "    \"score\": 0.9932060241699219\n",
      "  },\n",
      "  {\n",
      "    \"label\": \"neutral\",\n",
      "    \"score\": 0.7275463342666626\n",
      "  },\n",
      "  {\n",
      "    \"label\": \"negative\",\n",
      "    \"score\": 0.9909226298332214\n",
      "  },\n",
      "  {\n",
      "    \"label\": \"neutral\",\n",
      "    \"score\": 0.9760090112686157\n",
      "  },\n",
      "  {\n",
      "    \"label\": \"neutral\",\n",
      "    \"score\": 0.9998712539672852\n",
      "  },\n",
      "  {\n",
      "    \"label\": \"neutral\",\n",
      "    \"score\": 0.999863862991333\n",
      "  },\n",
      "  {\n",
      "    \"label\": \"positive\",\n",
      "    \"score\": 0.9985255599021912\n",
      "  },\n",
      "  {\n",
      "    \"label\": \"neutral\",\n",
      "    \"score\": 0.9998888969421387\n",
      "  },\n",
      "  {\n",
      "    \"label\": \"positive\",\n",
      "    \"score\": 0.9417876601219177\n",
      "  },\n",
      "  {\n",
      "    \"label\": \"neutral\",\n",
      "    \"score\": 0.999789297580719\n",
      "  },\n",
      "  {\n",
      "    \"label\": \"positive\",\n",
      "    \"score\": 0.9956854581832886\n",
      "  },\n",
      "  {\n",
      "    \"label\": \"positive\",\n",
      "    \"score\": 0.9971170425415039\n",
      "  },\n",
      "  {\n",
      "    \"label\": \"positive\",\n",
      "    \"score\": 0.8244225382804871\n",
      "  },\n",
      "  {\n",
      "    \"label\": \"neutral\",\n",
      "    \"score\": 0.9998729228973389\n",
      "  },\n",
      "  {\n",
      "    \"label\": \"neutral\",\n",
      "    \"score\": 0.9998003840446472\n",
      "  },\n",
      "  {\n",
      "    \"label\": \"neutral\",\n",
      "    \"score\": 0.6792684197425842\n",
      "  },\n",
      "  {\n",
      "    \"label\": \"neutral\",\n",
      "    \"score\": 0.9998509883880615\n",
      "  },\n",
      "  {\n",
      "    \"label\": \"negative\",\n",
      "    \"score\": 0.9287416338920593\n",
      "  },\n",
      "  {\n",
      "    \"label\": \"negative\",\n",
      "    \"score\": 0.9960719347000122\n",
      "  },\n",
      "  {\n",
      "    \"label\": \"neutral\",\n",
      "    \"score\": 0.9996670484542847\n",
      "  },\n",
      "  {\n",
      "    \"label\": \"neutral\",\n",
      "    \"score\": 0.9998713731765747\n",
      "  },\n",
      "  {\n",
      "    \"label\": \"positive\",\n",
      "    \"score\": 0.9956802129745483\n",
      "  },\n",
      "  {\n",
      "    \"label\": \"positive\",\n",
      "    \"score\": 0.8553104996681213\n",
      "  },\n",
      "  {\n",
      "    \"label\": \"neutral\",\n",
      "    \"score\": 0.9997875094413757\n",
      "  },\n",
      "  {\n",
      "    \"label\": \"neutral\",\n",
      "    \"score\": 0.999671459197998\n",
      "  },\n",
      "  {\n",
      "    \"label\": \"negative\",\n",
      "    \"score\": 0.9908097982406616\n",
      "  },\n",
      "  {\n",
      "    \"label\": \"negative\",\n",
      "    \"score\": 0.9767107367515564\n",
      "  },\n",
      "  {\n",
      "    \"label\": \"negative\",\n",
      "    \"score\": 0.9863492250442505\n",
      "  },\n",
      "  {\n",
      "    \"label\": \"positive\",\n",
      "    \"score\": 0.9955214262008667\n",
      "  },\n",
      "  {\n",
      "    \"label\": \"neutral\",\n",
      "    \"score\": 0.9997790455818176\n",
      "  },\n",
      "  {\n",
      "    \"label\": \"neutral\",\n",
      "    \"score\": 0.999798595905304\n",
      "  },\n",
      "  {\n",
      "    \"label\": \"neutral\",\n",
      "    \"score\": 0.9998719692230225\n",
      "  },\n",
      "  {\n",
      "    \"label\": \"neutral\",\n",
      "    \"score\": 0.9901797771453857\n",
      "  },\n",
      "  {\n",
      "    \"label\": \"neutral\",\n",
      "    \"score\": 0.9875796437263489\n",
      "  },\n",
      "  {\n",
      "    \"label\": \"positive\",\n",
      "    \"score\": 0.9732956886291504\n",
      "  },\n",
      "  {\n",
      "    \"label\": \"neutral\",\n",
      "    \"score\": 0.9998447895050049\n",
      "  },\n",
      "  {\n",
      "    \"label\": \"negative\",\n",
      "    \"score\": 0.6092957258224487\n",
      "  },\n",
      "  {\n",
      "    \"label\": \"negative\",\n",
      "    \"score\": 0.9473337531089783\n",
      "  },\n",
      "  {\n",
      "    \"label\": \"positive\",\n",
      "    \"score\": 0.9924693703651428\n",
      "  },\n",
      "  {\n",
      "    \"label\": \"neutral\",\n",
      "    \"score\": 0.9993038177490234\n",
      "  },\n",
      "  {\n",
      "    \"label\": \"negative\",\n",
      "    \"score\": 0.7383936047554016\n",
      "  }\n",
      "]\n"
     ]
    }
   ],
   "source": [
    "import json\n",
    "\n",
    "sentiment_results = response.json()[0]\n",
    "print(json.dumps(sentiment_results, indent=2))"
   ]
  },
  {
   "cell_type": "code",
   "execution_count": 33,
   "metadata": {},
   "outputs": [
    {
     "data": {
      "text/plain": [
       "(49, 49)"
      ]
     },
     "execution_count": 33,
     "metadata": {},
     "output_type": "execute_result"
    }
   ],
   "source": [
    "len(sentiment_results), len(titles)"
   ]
  },
  {
   "cell_type": "code",
   "execution_count": 40,
   "metadata": {},
   "outputs": [
    {
     "data": {
      "text/plain": [
       "'neutral'"
      ]
     },
     "execution_count": 40,
     "metadata": {},
     "output_type": "execute_result"
    }
   ],
   "source": [
    "sentiment_results[0][\"label\"]"
   ]
  },
  {
   "cell_type": "code",
   "execution_count": null,
   "metadata": {},
   "outputs": [
    {
     "name": "stdout",
     "output_type": "stream",
     "text": [
      "neutral\n",
      "neutral\n",
      "neutral\n",
      "positive\n",
      "positive\n",
      "neutral\n",
      "neutral\n",
      "neutral\n",
      "negative\n",
      "neutral\n",
      "negative\n",
      "neutral\n",
      "neutral\n",
      "neutral\n",
      "positive\n",
      "neutral\n",
      "positive\n",
      "neutral\n",
      "positive\n",
      "positive\n",
      "positive\n",
      "neutral\n",
      "neutral\n",
      "neutral\n",
      "neutral\n",
      "negative\n",
      "negative\n",
      "neutral\n",
      "neutral\n",
      "positive\n",
      "positive\n",
      "neutral\n",
      "neutral\n",
      "negative\n",
      "negative\n",
      "negative\n",
      "positive\n",
      "neutral\n",
      "neutral\n",
      "neutral\n",
      "neutral\n",
      "neutral\n",
      "positive\n",
      "neutral\n",
      "negative\n",
      "negative\n",
      "positive\n",
      "neutral\n",
      "negative\n",
      "finished\n"
     ]
    }
   ],
   "source": [
    "if len(sentiment_results) == len(titles):\n",
    "    for i in range(0, len(titles)):\n",
    "        label = sentiment_results[i][\"label\"]\n",
    "        # print(label)\n",
    "        cur.execute('''\n",
    "            UPDATE utoday_news\n",
    "            SET sentiment = %s\n",
    "            WHERE title = %s;\n",
    "        ''', (label, titles[i]))\n",
    "\n",
    "conn.commit()\n",
    "print(\"finished\")"
   ]
  },
  {
   "cell_type": "code",
   "execution_count": 26,
   "metadata": {},
   "outputs": [
    {
     "data": {
      "text/plain": [
       "[('$103 Million Bitcoin Transfers Stun Major Crypto Exchange in Minutes',\n",
       "  'Caroline Amosun',\n",
       "  'https://u.today/103-million-bitcoin-transfers-stun-major-crypto-exchange-in-minutes',\n",
       "  datetime.date(2025, 5, 14),\n",
       "  None)]"
      ]
     },
     "execution_count": 26,
     "metadata": {},
     "output_type": "execute_result"
    }
   ],
   "source": [
    "cur.execute('''\n",
    "    SELECT * FROM utoday_news ORDER BY date LIMIT 1;\n",
    "''')\n",
    "cur.fetchall()"
   ]
  },
  {
   "cell_type": "code",
   "execution_count": 27,
   "metadata": {},
   "outputs": [
    {
     "data": {
      "text/plain": [
       "[('Bitcoin Enters ATH Season, Samson Mow Believes',\n",
       "  'Yuri Molchan',\n",
       "  'https://u.today/bitcoin-enters-ath-season-samson-mow-believes',\n",
       "  datetime.date(2025, 5, 19),\n",
       "  None),\n",
       " (\"'Rich Dad Poor Dad' Author Issues Big Call: Just Bitcoin, No BTC ETFs\",\n",
       "  'Yuri Molchan',\n",
       "  'https://u.today/rich-dad-poor-dad-author-issues-big-call-just-bitcoin-no-btc-etfs',\n",
       "  datetime.date(2025, 5, 19),\n",
       "  None),\n",
       " ('Bitcoin Logs All-Time High Weekly Candle',\n",
       "  'Alex Dovbnya',\n",
       "  'https://u.today/bitcoin-logs-all-time-high-weekly-candle',\n",
       "  datetime.date(2025, 5, 19),\n",
       "  None),\n",
       " (\"XRP: Pivotal 'Crash or Rally' Moment, Explosive Bitcoin (BTC) Boost Around Corner, Ethereum (ETH): $3,000 Looms?\",\n",
       "  'Arman Shirinyan',\n",
       "  'https://u.today/xrp-pivotal-crash-or-rally-moment-explosive-bitcoin-btc-boost-around-corner-ethereum-eth-3000-looms',\n",
       "  datetime.date(2025, 5, 19),\n",
       "  None),\n",
       " ('Bitcoin Steadily Approaches $106,000',\n",
       "  'Alex Dovbnya',\n",
       "  'https://u.today/bitcoin-steadily-approaches-106000',\n",
       "  datetime.date(2025, 5, 18),\n",
       "  None),\n",
       " ('Bitcoin (BTC) Price Prediction for May 18',\n",
       "  'Denys Serhiichuk',\n",
       "  'https://u.today/bitcoin-btc-price-prediction-for-may-18',\n",
       "  datetime.date(2025, 5, 18),\n",
       "  None),\n",
       " ('Death Cross Alert: XRP on Brink of Failure Against Bitcoin',\n",
       "  'Gamza Khanzadaev',\n",
       "  'https://u.today/death-cross-alert-xrp-on-brink-of-failure-against-bitcoin',\n",
       "  datetime.date(2025, 5, 18),\n",
       "  None),\n",
       " ('Bitcoin to $500,000 by 2030, Top Trader Predicts',\n",
       "  'Gamza Khanzadaev',\n",
       "  'https://u.today/bitcoin-to-500000-by-2030-top-trader-predicts',\n",
       "  datetime.date(2025, 5, 18),\n",
       "  None),\n",
       " ('Bitcoin May Never Dip Below $47,000 Again',\n",
       "  'Gamza Khanzadaev',\n",
       "  'https://u.today/bitcoin-may-never-dip-below-47000-again',\n",
       "  datetime.date(2025, 5, 18),\n",
       "  None),\n",
       " (\"Bitcoin Hourly Death Cross Just Flashed: What's Next for BTC Price?\",\n",
       "  'Tomiwabold Olajide',\n",
       "  'https://u.today/bitcoin-hourly-death-cross-just-flashed-whats-next-for-btc-price',\n",
       "  datetime.date(2025, 5, 18),\n",
       "  None),\n",
       " (\"Bitcoin Likely Never Falling Below $47,000, Here's Why\",\n",
       "  'Alex Dovbnya',\n",
       "  'https://u.today/bitcoin-likely-never-falling-below-47000-heres-why',\n",
       "  datetime.date(2025, 5, 18),\n",
       "  None),\n",
       " (\"'Rich Dad Poor Dad' Author Drops Bold Bitcoin Prediction, Urges Buying BTC Now\",\n",
       "  'Alex Dovbnya',\n",
       "  'https://u.today/rich-dad-poor-dad-author-drops-bold-bitcoin-prediction-urges-buying-btc-now',\n",
       "  datetime.date(2025, 5, 18),\n",
       "  None),\n",
       " (\"Bitcoin to $120,000? Here's What Must Happen First, per Analyst\",\n",
       "  'Tomiwabold Olajide',\n",
       "  'https://u.today/bitcoin-to-120000-heres-what-must-happen-first-per-analyst-0',\n",
       "  datetime.date(2025, 5, 17),\n",
       "  None),\n",
       " ('Bitcoin ATH Date Revealed by Weiss Crypto',\n",
       "  'Vladislav Sopov',\n",
       "  'https://u.today/bitcoin-ath-date-revealed-by-weiss-crypto',\n",
       "  datetime.date(2025, 5, 17),\n",
       "  None),\n",
       " ('Bitcoin May Skyrocket Anytime Soon as US Loses AAA Credit Rating: Report',\n",
       "  'Yuri Molchan',\n",
       "  'https://u.today/bitcoin-may-skyrocket-anytime-soon-as-us-loses-aaa-credit-rating-report',\n",
       "  datetime.date(2025, 5, 17),\n",
       "  None),\n",
       " ('‘What If XRP Is Next Bitcoin?’ — Barstool President Dave Portnoy',\n",
       "  'Yuri Molchan',\n",
       "  'https://u.today/what-if-xrp-is-next-bitcoin-barstool-president-dave-portnoy',\n",
       "  datetime.date(2025, 5, 17),\n",
       "  None),\n",
       " ('Dogecoin (DOGE) Death Cross Dominates, 64% Solana (SOL) Rally Can Hit 100%, Bitcoin (BTC) to Face Mini-Golden Cross',\n",
       "  'Arman Shirinyan',\n",
       "  'https://u.today/dogecoin-doge-death-cross-dominates-64-solana-sol-rally-can-hit-100-bitcoin-btc-to-face-mini-golden',\n",
       "  datetime.date(2025, 5, 17),\n",
       "  None),\n",
       " ('No MSTR Without Bitcoin: Saylor Shares Curriculum for Financial Success',\n",
       "  'Caroline Amosun',\n",
       "  'https://u.today/no-mstr-without-bitcoin-saylor-shares-curriculum-for-financial-success',\n",
       "  datetime.date(2025, 5, 16),\n",
       "  None),\n",
       " ('Coinbase CEO Reacts to $20 Million Bitcoin Ransom and Customer Data Attack, Stellar (XLM) Sets up for $0.30 Skyrocketing: Crypto News Digest by U.Today',\n",
       "  'Valeria Blokhina',\n",
       "  'https://u.today/coinbase-ceo-reacts-to-20-million-bitcoin-ransom-and-customer-data-attack-stellar-xlm-sets-up-for',\n",
       "  datetime.date(2025, 5, 16),\n",
       "  None),\n",
       " ('$18,344,996,366 Bitcoin Sell Wall Suppressing ATH Rebound',\n",
       "  'Godfrey Benjamin',\n",
       "  'https://u.today/18344996366-bitcoin-sell-wall-suppressing-ath-rebound',\n",
       "  datetime.date(2025, 5, 16),\n",
       "  None),\n",
       " ('Bitcoin to Reach $130k-$150k Soon: Billionaire Mike Novogratz',\n",
       "  'Yuri Molchan',\n",
       "  'https://u.today/bitcoin-to-reach-130k-150k-soon-billionaire-mike-novogratz',\n",
       "  datetime.date(2025, 5, 16),\n",
       "  None),\n",
       " ('Bitcoin Major Buyers Revealed by On-chain Data: Details',\n",
       "  'Tomiwabold Olajide',\n",
       "  'https://u.today/bitcoin-major-buyers-revealed-by-on-chain-data-details',\n",
       "  datetime.date(2025, 5, 16),\n",
       "  None),\n",
       " ('Fidelity: Gold Passing Baton to Bitcoin',\n",
       "  'Alex Dovbnya',\n",
       "  'https://u.today/fidelity-gold-passing-baton-to-bitcoin',\n",
       "  datetime.date(2025, 5, 16),\n",
       "  None),\n",
       " ('Mind-Blowing $3,400,000,000 Bitcoin and Ethereum Expiry: Market to Explode?',\n",
       "  'Arman Shirinyan',\n",
       "  'https://u.today/mind-blowing-3400000000-bitcoin-and-ethereum-expiry-market-to-explode',\n",
       "  datetime.date(2025, 5, 16),\n",
       "  None),\n",
       " ('XRP Forms Never-Before-Seen Golden Cross Versus Bitcoin',\n",
       "  'Gamza Khanzadaev',\n",
       "  'https://u.today/xrp-forms-never-before-seen-golden-cross-versus-bitcoin',\n",
       "  datetime.date(2025, 5, 16),\n",
       "  None),\n",
       " ('Bitcoin Nearing $105,000, But Key Resistance Looms',\n",
       "  'Alex Dovbnya',\n",
       "  'https://u.today/bitcoin-nearing-105000-but-key-resistance-looms',\n",
       "  datetime.date(2025, 5, 16),\n",
       "  None),\n",
       " ('JPMorgan Suddenly Turns Bullish on Bitcoin',\n",
       "  'Alex Dovbnya',\n",
       "  'https://u.today/jpmorgan-suddenly-turns-bullish-on-bitcoin',\n",
       "  datetime.date(2025, 5, 15),\n",
       "  None),\n",
       " ('Tooth or Bitcoin? Saylor Shares Shocking Piece of Advice',\n",
       "  'Alex Dovbnya',\n",
       "  'https://u.today/tooth-or-bitcoin-saylor-shares-shocking-piece-of-advice',\n",
       "  datetime.date(2025, 5, 15),\n",
       "  None),\n",
       " (\"$226 Million Bitcoin Exit Binance and Kraken in 3 Hours, What's Happening?\",\n",
       "  'Godfrey Benjamin',\n",
       "  'https://u.today/226-million-bitcoin-exit-binance-and-kraken-in-3-hours-whats-happening',\n",
       "  datetime.date(2025, 5, 15),\n",
       "  None),\n",
       " ('eToro CEO Reveals $50 Million Bitcoin Profit',\n",
       "  'Alex Dovbnya',\n",
       "  'https://u.today/etoro-ceo-reveals-50-million-bitcoin-profit',\n",
       "  datetime.date(2025, 5, 15),\n",
       "  None),\n",
       " ('Breaking: Coinbase CEO Reacts to $20 Million Bitcoin Ransom and Customer Data Attack',\n",
       "  'Gamza Khanzadaev',\n",
       "  'https://u.today/breaking-coinbase-ceo-reacts-to-20-million-bitcoin-ransom-and-customer-data-attack',\n",
       "  datetime.date(2025, 5, 15),\n",
       "  None),\n",
       " ('Bitcoin (BTC) to $1,000,000 Before 2028, Arthur Hayes Says',\n",
       "  'Vladislav Sopov',\n",
       "  'https://u.today/bitcoin-btc-to-1000000-before-2028-arthur-hayes-says',\n",
       "  datetime.date(2025, 5, 15),\n",
       "  None),\n",
       " (\"US Government Not Selling Bitcoin: White House's Bo Hines\",\n",
       "  'Yuri Molchan',\n",
       "  'https://u.today/us-government-not-selling-bitcoin-white-houses-bo-hines',\n",
       "  datetime.date(2025, 5, 15),\n",
       "  None),\n",
       " (\"Has Bitcoin's (BTC) Price Peaked? $100,000 Level May Be Lost\",\n",
       "  'Godfrey Benjamin',\n",
       "  'https://u.today/has-bitcoins-btc-price-peaked-100000-level-may-be-lost',\n",
       "  datetime.date(2025, 5, 15),\n",
       "  None),\n",
       " (\"'Ridiculous': Peter Schiff Reveals What's Actually Worse Than Bitcoin\",\n",
       "  'Gamza Khanzadaev',\n",
       "  'https://u.today/ridiculous-peter-schiff-reveals-whats-actually-worse-than-bitcoin',\n",
       "  datetime.date(2025, 5, 15),\n",
       "  None),\n",
       " ('$307 Million Bitcoin Leaves Largest US Crypto Exchange in Just Hours: Details',\n",
       "  'Yuri Molchan',\n",
       "  'https://u.today/307-million-bitcoin-leaves-us-largest-crypto-exchange-in-just-hours-details',\n",
       "  datetime.date(2025, 5, 15),\n",
       "  None),\n",
       " (\"Solana (SOL) Can Shock Market, Bitcoin's (BTC) Explosive Performance Is Coming, Shiba Inu (SHIB): Make It or Break It\",\n",
       "  'Arman Shirinyan',\n",
       "  'https://u.today/solana-sol-can-shock-market-bitcoins-btc-explosive-performance-is-coming-shiba-inu-shib-make-it-or',\n",
       "  datetime.date(2025, 5, 15),\n",
       "  None),\n",
       " ('$103 Million Bitcoin Transfers Stun Major Crypto Exchange in Minutes',\n",
       "  'Caroline Amosun',\n",
       "  'https://u.today/103-million-bitcoin-transfers-stun-major-crypto-exchange-in-minutes',\n",
       "  datetime.date(2025, 5, 14),\n",
       "  None),\n",
       " (\"Peter Schiff Names 'Valid Reason' to Own Bitcoin\",\n",
       "  'Alex Dovbnya',\n",
       "  'https://u.today/peter-schiff-names-valid-reason-to-own-bitcoin',\n",
       "  datetime.date(2025, 5, 14),\n",
       "  None),\n",
       " (\"Saylor Is Bitcoin's Buffett, Pro-XRP Lawyer Claims\",\n",
       "  'Alex Dovbnya',\n",
       "  'https://u.today/saylor-is-bitcoins-buffett-pro-xrp-lawyer-claims',\n",
       "  datetime.date(2025, 5, 14),\n",
       "  None),\n",
       " (\"Tether to Add $450 Million Bitcoin, But There's a Twist\",\n",
       "  'Godfrey Benjamin',\n",
       "  'https://u.today/tether-to-add-450-million-bitcoin-but-theres-a-twist',\n",
       "  datetime.date(2025, 5, 14),\n",
       "  None),\n",
       " ('Bitcoin (BTC) First New Macro Asset in 150 Years, Analyst Says',\n",
       "  'Vladislav Sopov',\n",
       "  'https://u.today/bitcoin-btc-first-new-macro-asset-in-150-years-analyst-says',\n",
       "  datetime.date(2025, 5, 14),\n",
       "  None),\n",
       " ('XRP Beats Bitcoin With Wild 5,840% Liquidation Imbalance',\n",
       "  'Gamza Khanzadaev',\n",
       "  'https://u.today/xrp-beats-bitcoin-with-wild-5840-liquidation-imbalance',\n",
       "  datetime.date(2025, 5, 14),\n",
       "  None),\n",
       " ('Bitcoin (BTC) Price Prediction for May 14',\n",
       "  'Denys Serhiichuk',\n",
       "  'https://u.today/bitcoin-btc-price-prediction-for-may-14',\n",
       "  datetime.date(2025, 5, 14),\n",
       "  None),\n",
       " (\"Crucial Bitcoin Index Flips Positive – Rare Event, Here's What It Means\",\n",
       "  'Yuri Molchan',\n",
       "  'https://u.today/crucial-bitcoin-index-flips-positive-rare-event-heres-what-it-means',\n",
       "  datetime.date(2025, 5, 14),\n",
       "  None),\n",
       " (\"$340 Million in Bitcoin and SOL Stun Major US Exchange in Sudden Move: What's Going On?\",\n",
       "  'Gamza Khanzadaev',\n",
       "  'https://u.today/340-million-in-bitcoin-and-sol-stun-major-us-exchange-in-sudden-move-whats-going-on',\n",
       "  datetime.date(2025, 5, 14),\n",
       "  None),\n",
       " ('Bitcoin (BTC): This Is Better Than Golden Cross',\n",
       "  'Arman Shirinyan',\n",
       "  'https://u.today/bitcoin-btc-this-is-better-than-golden-cross',\n",
       "  datetime.date(2025, 5, 14),\n",
       "  None),\n",
       " ('Saylor’s Strategy’s Big Bitcoin Secret Revealed in Fresh FT Documentary',\n",
       "  'Yuri Molchan',\n",
       "  'https://u.today/saylors-strategys-big-bitcoin-secret-revealed-in-fresh-ft-documentary',\n",
       "  datetime.date(2025, 5, 14),\n",
       "  None),\n",
       " ('100x Bitcoin (BTC) Liquidation in 4 Hours: What Happened?',\n",
       "  'Arman Shirinyan',\n",
       "  'https://u.today/100x-bitcoin-btc-liquidation-in-4-hours-what-happened',\n",
       "  datetime.date(2025, 5, 14),\n",
       "  None)]"
      ]
     },
     "execution_count": 27,
     "metadata": {},
     "output_type": "execute_result"
    }
   ],
   "source": [
    "cur.execute('''\n",
    "    SELECT * FROM utoday_news;\n",
    "''')\n",
    "cur.fetchall()"
   ]
  },
  {
   "cell_type": "code",
   "execution_count": null,
   "metadata": {},
   "outputs": [],
   "source": [
    "cur.execute(\"ROLLBACK\")"
   ]
  },
  {
   "cell_type": "code",
   "execution_count": 92,
   "metadata": {},
   "outputs": [],
   "source": [
    "cur.execute('''\n",
    "    DELETE FROM utoday_news WHERE author = '';\n",
    "''')\n",
    "conn.commit()"
   ]
  }
 ],
 "metadata": {
  "kernelspec": {
   "display_name": "CAB_Module3",
   "language": "python",
   "name": "python3"
  },
  "language_info": {
   "codemirror_mode": {
    "name": "ipython",
    "version": 3
   },
   "file_extension": ".py",
   "mimetype": "text/x-python",
   "name": "python",
   "nbconvert_exporter": "python",
   "pygments_lexer": "ipython3",
   "version": "3.12.8"
  }
 },
 "nbformat": 4,
 "nbformat_minor": 2
}
