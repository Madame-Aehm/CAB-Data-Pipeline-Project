{
 "cells": [
  {
   "cell_type": "code",
   "execution_count": 73,
   "metadata": {},
   "outputs": [
    {
     "data": {
      "text/plain": [
       "True"
      ]
     },
     "execution_count": 73,
     "metadata": {},
     "output_type": "execute_result"
    }
   ],
   "source": [
    "import requests\n",
    "import bs4\n",
    "from dotenv import load_dotenv\n",
    "import os\n",
    "import psycopg\n",
    "from datetime import datetime as dt\n",
    "\n",
    "load_dotenv()"
   ]
  },
  {
   "cell_type": "code",
   "execution_count": 90,
   "metadata": {},
   "outputs": [],
   "source": [
    "dbconn = os.getenv(\"DBCONN\")\n",
    "conn = psycopg.connect(dbconn)\n",
    "cur = conn.cursor()"
   ]
  },
  {
   "cell_type": "code",
   "execution_count": null,
   "metadata": {},
   "outputs": [],
   "source": [
    "cur.execute('''\n",
    "    DROP TABLE IF EXISTS utoday_news;\n",
    "    CREATE TABLE IF NOT EXISTS utoday_news(\n",
    "        title VARCHAR(255),\n",
    "        author VARCHAR(255),\n",
    "        link VARCHAR(255),\n",
    "        date DATE\n",
    "    );\n",
    "''')"
   ]
  },
  {
   "cell_type": "code",
   "execution_count": null,
   "metadata": {},
   "outputs": [],
   "source": [
    "conn.commit()"
   ]
  },
  {
   "cell_type": "code",
   "execution_count": null,
   "metadata": {},
   "outputs": [],
   "source": [
    "cur.close()\n",
    "conn.close()"
   ]
  },
  {
   "cell_type": "code",
   "execution_count": null,
   "metadata": {},
   "outputs": [],
   "source": [
    "response = requests.get(\"https://u.today/search/node?keys=bitcoin\")\n",
    "document = bs4.BeautifulSoup(response.text)\n",
    "news_items2 = document.select(\"div.search-result > .news__item\")"
   ]
  },
  {
   "cell_type": "code",
   "execution_count": 72,
   "metadata": {},
   "outputs": [
    {
     "data": {
      "text/plain": [
       "(58, 50)"
      ]
     },
     "execution_count": 72,
     "metadata": {},
     "output_type": "execute_result"
    }
   ],
   "source": [
    "len(news_items), len(news_items2)"
   ]
  },
  {
   "cell_type": "code",
   "execution_count": 69,
   "metadata": {},
   "outputs": [],
   "source": [
    "add_to_db = []\n",
    "\n",
    "for item in news_items:\n",
    "    try: \n",
    "        data = []\n",
    "        data.append(item.select_one(\"div.news__item-title\").get_text()) # title\n",
    "        data.append(item.select_one(\"a.humble.humble--author\").get_text().split(\"\\n\")[0]) # author\n",
    "        data.append(item.select_one(\"div.humble\").get_text().split(\" - \")[0]) # date\n",
    "        data.append(item.select_one(\"a.news__item-body\")[\"href\"]) # link\n",
    "        add_to_db.append(data)\n",
    "    except: print(\"value missing\")"
   ]
  },
  {
   "cell_type": "code",
   "execution_count": null,
   "metadata": {},
   "outputs": [],
   "source": [
    "for item in add_to_db:\n",
    "    item[2] = dt.strptime(item[2], \"%b %d, %Y\")\n",
    "    cur.execute('''\n",
    "        INSERT INTO utoday_news (title, author, date, link)\n",
    "        VALUES (%s, %s, %s, %s);\n",
    "    ''', item)\n",
    "\n",
    "print(\"finished\")"
   ]
  },
  {
   "cell_type": "code",
   "execution_count": null,
   "metadata": {},
   "outputs": [],
   "source": [
    "cur.execute('''\n",
    "    ALTER TABLE utoday_news\n",
    "    ADD sentiment VARCHAR(255);\n",
    "''')"
   ]
  },
  {
   "cell_type": "code",
   "execution_count": null,
   "metadata": {},
   "outputs": [],
   "source": [
    "titles = cur.execute('''\n",
    "    SELECT title FROM utoday_news ORDER BY date DESC;\n",
    "''').fetchall()\n",
    "\n",
    "titles = [title[0] for title in titles]"
   ]
  },
  {
   "cell_type": "code",
   "execution_count": null,
   "metadata": {},
   "outputs": [],
   "source": [
    "hf_api_key = os.getenv(\"HF_API_KEY\")\n",
    "url = \"https://api-inference.huggingface.co/models/mrm8488/distilroberta-finetuned-financial-news-sentiment-analysis\"\n",
    "\n",
    "payload = { \"inputs\": titles }\n",
    "headers = { \"Authorization\": f\"Bearer {hf_api_key}\" }\n",
    "response = requests.post(url, headers=headers, json=payload)\n",
    "print(\"first response\", response)\n",
    "\n",
    "if response.status_code == 503:\n",
    "    headers[\"x-wait-for-model\"] = \"true\"\n",
    "    response = requests.post(url, headers=headers, json=payload)\n",
    "    print(\"second response\", response)"
   ]
  },
  {
   "cell_type": "code",
   "execution_count": null,
   "metadata": {},
   "outputs": [],
   "source": [
    "import json\n",
    "\n",
    "sentiment_results = response.json()\n",
    "print(json.dumps(sentiment_results, indent=2))"
   ]
  },
  {
   "cell_type": "code",
   "execution_count": null,
   "metadata": {},
   "outputs": [],
   "source": [
    "if len(sentiment_results) == len(titles):\n",
    "    for i in range(0, len(titles)):\n",
    "        label = sentiment_results[i][0][\"label\"]\n",
    "        cur.execute('''\n",
    "            UPDATE utoday_news\n",
    "            SET sentiment = %s\n",
    "            WHERE title = %s;\n",
    "        ''', (label, titles[i]))\n",
    "\n",
    "conn.commit()\n",
    "print(\"finished\")"
   ]
  },
  {
   "cell_type": "code",
   "execution_count": 96,
   "metadata": {},
   "outputs": [
    {
     "data": {
      "text/plain": [
       "[(\"Fidelity Says It's 'Possible' for Bitcoin to Overtake Gold\",\n",
       "  'Alex Dovbnya',\n",
       "  'https://u.today/fidelity-says-its-possible-for-bitcoin-to-overtake-gold',\n",
       "  datetime.date(2025, 3, 28),\n",
       "  'positive')]"
      ]
     },
     "execution_count": 96,
     "metadata": {},
     "output_type": "execute_result"
    }
   ],
   "source": [
    "cur.execute('''\n",
    "    SELECT * FROM utoday_news ORDER BY date LIMIT 1;\n",
    "''')\n",
    "cur.fetchall()"
   ]
  },
  {
   "cell_type": "code",
   "execution_count": 95,
   "metadata": {},
   "outputs": [
    {
     "data": {
      "text/plain": [
       "[(\"Better Than Bitcoin? 'Rich Dad Poor Dad' Author Names His Pick\",\n",
       "  'Alex Dovbnya',\n",
       "  'https://u.today/better-than-bitcoin-rich-dad-poor-dad-author-names-his-pick',\n",
       "  datetime.date(2025, 4, 2),\n",
       "  'neutral'),\n",
       " ('$94 Million Bitcoin (BTC) Mystery Stuns Major US Exchange',\n",
       "  'Gamza Khanzadaev',\n",
       "  'https://u.today/94-million-bitcoin-btc-mystery-stuns-major-us-exchange',\n",
       "  datetime.date(2025, 4, 2),\n",
       "  'neutral'),\n",
       " ('Bitcoin Mogul Successfully Launched into Space, 40,000,000 XRP Withdrawal Stuns Top South Korean Exchange, Grayscale Files for Digital Large Cap Fund ETF With SEC: Crypto News Digest by U.Today',\n",
       "  'Valeria Blokhina',\n",
       "  'https://u.today/bitcoin-mogul-successfully-launched-into-space-40000000-xrp-withdrawal-stuns-top-south-korean',\n",
       "  datetime.date(2025, 4, 2),\n",
       "  'positive'),\n",
       " (\"Biggest Bitcoin Critic Peter Schiff Reveals April Fools' Day Prank\",\n",
       "  'Gamza Khanzadaev',\n",
       "  'https://u.today/biggest-bitcoin-critic-peter-schiff-reveals-april-fools-day-prank',\n",
       "  datetime.date(2025, 4, 2),\n",
       "  'neutral'),\n",
       " ('Bitcoin (BTC) Price Prediction for April 2',\n",
       "  'Denys Serhiichuk',\n",
       "  'https://u.today/bitcoin-btc-price-prediction-for-april-2',\n",
       "  datetime.date(2025, 4, 2),\n",
       "  'neutral'),\n",
       " ('Michael Saylor Stuns With Bullish Call: ‘More Bitcoin’ As BTC Breaks Out',\n",
       "  'Yuri Molchan',\n",
       "  'https://u.today/michael-saylor-stuns-with-bullish-call-more-bitcoin-as-btc-breaks-out',\n",
       "  datetime.date(2025, 4, 2),\n",
       "  'neutral'),\n",
       " (\"Bitcoin (BTC) Controlled by Bears, But There's a Silver Lining\",\n",
       "  'Vladislav Sopov',\n",
       "  'https://u.today/bitcoin-btc-controlled-by-bears-but-theres-a-silver-lining',\n",
       "  datetime.date(2025, 4, 2),\n",
       "  'neutral'),\n",
       " ('Bitcoin (BTC) Price Sees Very Rare Golden and Death Cross Duel',\n",
       "  'Gamza Khanzadaev',\n",
       "  'https://u.today/bitcoin-btc-price-sees-very-rare-golden-and-death-cross-duel',\n",
       "  datetime.date(2025, 4, 2),\n",
       "  'neutral'),\n",
       " (\"Bitcoin: Mike McGlone's Bearish $10,000 Outlook Sees Radical U-Turn\",\n",
       "  'Yuri Molchan',\n",
       "  'https://u.today/bitcoin-mike-mcglones-bearish-10000-outlook-sees-radical-u-turn',\n",
       "  datetime.date(2025, 4, 2),\n",
       "  'negative'),\n",
       " ('XRP, DOGE and Bitcoin Wiped out in $287 Million Liquidation Tsunami',\n",
       "  'Gamza Khanzadaev',\n",
       "  'https://u.today/xrp-doge-and-bitcoin-wiped-out-in-287-million-liquidation-tsunami',\n",
       "  datetime.date(2025, 4, 2),\n",
       "  'neutral'),\n",
       " ('Strategy’s Saylor Flaunts 15,586 BTC Gain as Bitcoin Hits $87K',\n",
       "  'Caroline Amosun',\n",
       "  'https://u.today/strategys-saylor-flaunts-15586-btc-gain-as-bitcoin-hits-87k',\n",
       "  datetime.date(2025, 4, 2),\n",
       "  'positive'),\n",
       " ('Peter Schiff to Grow Bitcoin Reserve on Public Donations',\n",
       "  'Caroline Amosun',\n",
       "  'https://u.today/peter-schiff-to-grow-bitcoin-reserve-on-public-donations',\n",
       "  datetime.date(2025, 4, 1),\n",
       "  'neutral'),\n",
       " (' Canadian Billionaire Says Bitcoin and Gold Are Very Different',\n",
       "  'Alex Dovbnya',\n",
       "  'https://u.today/canadian-billionaire-says-bitcoin-and-gold-are-very-different',\n",
       "  datetime.date(2025, 4, 1),\n",
       "  'neutral'),\n",
       " ('Bitcoin Bulls, Buckle Up: Bollinger Bands Hint at $88,000 Teleport',\n",
       "  'Gamza Khanzadaev',\n",
       "  'https://u.today/bitcoin-bulls-buckle-up-bollinger-bands-hint-at-88000-teleport',\n",
       "  datetime.date(2025, 4, 1),\n",
       "  'neutral'),\n",
       " ('Fidelity Spotlights 8-Year-Old Bullish Bitcoin Move From Japan',\n",
       "  'Godfrey Benjamin',\n",
       "  'https://u.today/fidelity-spotlights-8-year-old-bullish-bitcoin-move-from-japan',\n",
       "  datetime.date(2025, 4, 1),\n",
       "  'positive'),\n",
       " (\"Bitcoin (BTC) Records Major Volume Reversal, XRP Doesn't Really Need $2, Did Ethereum (ETH) Forget About $2,000?\",\n",
       "  'Arman Shirinyan',\n",
       "  'https://u.today/bitcoin-btc-records-major-volume-reversal-xrp-doesnt-really-need-2-did-ethereum-eth-forget-about',\n",
       "  datetime.date(2025, 4, 1),\n",
       "  'neutral'),\n",
       " (\"XRP on Verge of Big Bitcoin Move, and It's Up\",\n",
       "  'Gamza Khanzadaev',\n",
       "  'https://u.today/xrp-on-verge-of-big-bitcoin-move-and-its-up',\n",
       "  datetime.date(2025, 4, 1),\n",
       "  'positive'),\n",
       " (\"'Don't Be Fool. Buy Bitcoin,' Michael Saylor Says\",\n",
       "  'Yuri Molchan',\n",
       "  'https://u.today/dont-be-fool-buy-bitcoin-michael-saylor-says',\n",
       "  datetime.date(2025, 4, 1),\n",
       "  'neutral'),\n",
       " ('Tether Buys 8,888 Bitcoin in Epic Buy-the-Dip Strategy',\n",
       "  'Godfrey Benjamin',\n",
       "  'https://u.today/tether-buys-8888-bitcoin-in-epic-buy-the-dip-strategy',\n",
       "  datetime.date(2025, 4, 1),\n",
       "  'positive'),\n",
       " ('Bitcoin Mogul Successfully Launched into Space',\n",
       "  'Alex Dovbnya',\n",
       "  'https://u.today/bitcoin-mogul-successfully-launched-into-space',\n",
       "  datetime.date(2025, 4, 1),\n",
       "  'positive'),\n",
       " ('Bitcoin (BTC) Outperforms Gold Amid Macro Uncertainty, Bitwise CIO Stays Optimistic',\n",
       "  'Caroline Amosun',\n",
       "  'https://u.today/bitcoin-btc-outperforms-gold-amid-macro-uncertainty-bitwise-cio-stays-optimistic',\n",
       "  datetime.date(2025, 3, 31),\n",
       "  'positive'),\n",
       " ('$1 Billion USDT Minted as Bitcoin Whales Prepare to Buy Dip ',\n",
       "  'Dan Burgin',\n",
       "  'https://u.today/1-billion-usdt-minted-as-bitcoin-whales-prepare-to-buy-dip',\n",
       "  datetime.date(2025, 3, 31),\n",
       "  'neutral'),\n",
       " (\"Stunning Chart Highlights Strategy's Bitcoin Dominance\",\n",
       "  'Alex Dovbnya',\n",
       "  'https://u.today/stunning-chart-highlights-strategys-bitcoin-dominance',\n",
       "  datetime.date(2025, 3, 31),\n",
       "  'positive'),\n",
       " ('XRP Army Lambasts Gemini CEO, 649,331,848 Dogecoin Stun Biggest Crypto Exchange, Robert Kiyosaki Predicts New ATH for Second Best Asset to Bitcoin: Crypto News Digest by U.Today',\n",
       "  'Valeria Blokhina',\n",
       "  'https://u.today/xrp-army-lambasts-gemini-ceo-649331848-dogecoin-stun-biggest-crypto-exchange-robert-kiyosaki',\n",
       "  datetime.date(2025, 3, 31),\n",
       "  'positive'),\n",
       " ('BlackRock CEO Warns US Dollar Could Lose to Bitcoin',\n",
       "  'Alex Dovbnya',\n",
       "  'https://u.today/blackrock-ceo-warns-us-dollar-could-lose-to-bitcoin',\n",
       "  datetime.date(2025, 3, 31),\n",
       "  'negative'),\n",
       " ('Litecoin (LTC) Decouples From Bitcoin in Key Metric: Details',\n",
       "  'Godfrey Benjamin',\n",
       "  'https://u.today/litecoin-ltc-decouples-from-bitcoin-in-key-metric-details',\n",
       "  datetime.date(2025, 3, 31),\n",
       "  'neutral'),\n",
       " ('Breaking: Strategy Buys Nearly $2 Billion Worth of Bitcoin',\n",
       "  'Alex Dovbnya',\n",
       "  'https://u.today/breaking-strategy-buys-nearly-2-billion-worth-of-bitcoin',\n",
       "  datetime.date(2025, 3, 31),\n",
       "  'positive'),\n",
       " (\"Bitcoin (BTC) 'Death Cross' Appears on Rare Indicator: What Happens Next?\",\n",
       "  'Tomiwabold Olajide',\n",
       "  'https://u.today/bitcoin-btc-death-cross-appears-on-rare-indicator-what-happens-next',\n",
       "  datetime.date(2025, 3, 31),\n",
       "  'neutral'),\n",
       " ('Spot Bitcoin ETF Inflows Down 73% in Seven Days: Details',\n",
       "  'Godfrey Benjamin',\n",
       "  'https://u.today/spot-bitcoin-etf-inflows-down-73-in-seven-days-details',\n",
       "  datetime.date(2025, 3, 31),\n",
       "  'negative'),\n",
       " ('Metaplanet Issues More Debt to Buy Bitcoin',\n",
       "  'Alex Dovbnya',\n",
       "  'https://u.today/metaplanet-issues-more-debt-to-buy-bitcoin',\n",
       "  datetime.date(2025, 3, 31),\n",
       "  'neutral'),\n",
       " ('XRP Rapidly Diving Below $2, Bitcoin (BTC) on Verge of Losing $80,000, Shiba Inu (SHIB) Loses All Breakout Gains',\n",
       "  'Arman Shirinyan',\n",
       "  'https://u.today/xrp-rapidly-diving-below-2-bitcoin-btc-on-verge-of-losing-80000-shiba-inu-shib-loses-all-breakout',\n",
       "  datetime.date(2025, 3, 31),\n",
       "  'negative'),\n",
       " ('Bitcoin (BTC) Price Prediction for March 30',\n",
       "  'Denys Serhiichuk',\n",
       "  'https://u.today/bitcoin-btc-price-prediction-for-march-30',\n",
       "  datetime.date(2025, 3, 30),\n",
       "  'neutral'),\n",
       " ('Michael Saylor Teases Another Bitcoin Mega-Buy With New Cryptic Post',\n",
       "  'Gamza Khanzadaev',\n",
       "  'https://u.today/michael-saylor-teases-another-bitcoin-mega-buy-with-new-cryptic-post',\n",
       "  datetime.date(2025, 3, 30),\n",
       "  'neutral'),\n",
       " ('Bitcoin ETFs Skyrocket by $200 Million, but Worrying Catch Emerges',\n",
       "  'Gamza Khanzadaev',\n",
       "  'https://u.today/bitcoin-etfs-skyrocket-by-200-million-but-worrying-catch-emerges',\n",
       "  datetime.date(2025, 3, 30),\n",
       "  'positive'),\n",
       " ('Mysterious $333,000,000 Bitcoin Transfer Stuns Major US Exchange',\n",
       "  'Gamza Khanzadaev',\n",
       "  'https://u.today/mysterious-333000000-bitcoin-transfer-stuns-major-us-exchange',\n",
       "  datetime.date(2025, 3, 30),\n",
       "  'neutral'),\n",
       " ('Has 20,000,000th Bitcoin Been Mined?',\n",
       "  'Alex Dovbnya',\n",
       "  'https://u.today/has-20000000th-bitcoin-been-mined',\n",
       "  datetime.date(2025, 3, 30),\n",
       "  'neutral'),\n",
       " ('Legendary Trader Brandt Warns This Bitcoin Pattern Could Be a Trap',\n",
       "  'Alex Dovbnya',\n",
       "  'https://u.today/legendary-trader-brandt-warns-this-bitcoin-pattern-could-be-a-trap',\n",
       "  datetime.date(2025, 3, 30),\n",
       "  'negative'),\n",
       " ('Bitcoin Magnate to Fly into Space Tomorrow',\n",
       "  'Alex Dovbnya',\n",
       "  'https://u.today/bitcoin-magnate-to-fly-into-space-tomorrow',\n",
       "  datetime.date(2025, 3, 30),\n",
       "  'neutral'),\n",
       " ('Bitcoin (BTC) Finds Bottom? Key Indicator Hints at Reversal',\n",
       "  'Gamza Khanzadaev',\n",
       "  'https://u.today/bitcoin-btc-finds-bottom-key-indicator-hints-at-reversal',\n",
       "  datetime.date(2025, 3, 30),\n",
       "  'neutral'),\n",
       " (\"Bitcoin (BTC) Price to $72,000: Top Trader on 'Dead Cat Bounce'\",\n",
       "  'Vladislav Sopov',\n",
       "  'https://u.today/bitcoin-btc-price-to-72000-top-trader-on-dead-cat-bounce',\n",
       "  datetime.date(2025, 3, 29),\n",
       "  'positive'),\n",
       " ('Bitcoin (BTC) Bleeds, but Price History Says April Could Be Fire',\n",
       "  'Gamza Khanzadaev',\n",
       "  'https://u.today/bitcoin-btc-bleeds-but-price-history-says-april-could-be-fire',\n",
       "  datetime.date(2025, 3, 29),\n",
       "  'negative'),\n",
       " (\"Bitcoin Shows Bear Trap, '$1 Million BTC' Samson Mow Claims\",\n",
       "  'Yuri Molchan',\n",
       "  'https://u.today/bitcoin-shows-bear-trap-1-million-btc-samson-mow-claims',\n",
       "  datetime.date(2025, 3, 29),\n",
       "  'negative'),\n",
       " ('15 Years Since Huge Bitcoin Bug Satoshi Had to Fix ASAP',\n",
       "  'Yuri Molchan',\n",
       "  'https://u.today/15-years-since-huge-bitcoin-bug-satoshi-had-to-fix-asap',\n",
       "  datetime.date(2025, 3, 29),\n",
       "  'neutral'),\n",
       " (\"Fidelity Says It's 'Possible' for Bitcoin to Overtake Gold\",\n",
       "  'Alex Dovbnya',\n",
       "  'https://u.today/fidelity-says-its-possible-for-bitcoin-to-overtake-gold',\n",
       "  datetime.date(2025, 3, 28),\n",
       "  'positive'),\n",
       " (\"$1.5 Billion: BlackRock Celebrates New Crypto Milestone, And It's Not Bitcoin\",\n",
       "  'Gamza Khanzadaev',\n",
       "  'https://u.today/15-billion-blackrock-celebrates-new-crypto-milestone-and-its-not-bitcoin',\n",
       "  datetime.date(2025, 3, 28),\n",
       "  'positive'),\n",
       " ('Bitcoin (BTC) Loses Crucial 200-Day Moving Average Amid Inflation Report',\n",
       "  'Gamza Khanzadaev',\n",
       "  'https://u.today/bitcoin-btc-loses-crucial-200-day-moving-average-amid-inflation-report',\n",
       "  datetime.date(2025, 3, 28),\n",
       "  'negative'),\n",
       " ('Ethereum Crashes 74% Against Bitcoin; Is Reversal Imminent?',\n",
       "  'Tomiwabold Olajide',\n",
       "  'https://u.today/ethereum-crashes-74-against-bitcoin-is-reversal-imminent',\n",
       "  datetime.date(2025, 3, 28),\n",
       "  'negative'),\n",
       " ('Schiff: Bitcoin (BTC) to Collapse to $10K',\n",
       "  'Alex Dovbnya',\n",
       "  'https://u.today/schiff-bitcoin-btc-to-collapse-to-10k',\n",
       "  datetime.date(2025, 3, 28),\n",
       "  'negative'),\n",
       " ('Bitcoin (BTC) Price Prediction for March 28',\n",
       "  'Denys Serhiichuk',\n",
       "  'https://u.today/bitcoin-btc-price-prediction-for-march-28-0',\n",
       "  datetime.date(2025, 3, 28),\n",
       "  'neutral'),\n",
       " ('Breaking: Tether Mints 1 Billion USDT Tokens as Bitcoin Plunges Below $85K',\n",
       "  'Alex Dovbnya',\n",
       "  'https://u.today/breaking-tether-mints-1-billion-usdt-tokens-as-bitcoin-plunges-below-85k',\n",
       "  datetime.date(2025, 3, 28),\n",
       "  'neutral')]"
      ]
     },
     "execution_count": 95,
     "metadata": {},
     "output_type": "execute_result"
    }
   ],
   "source": [
    "cur.execute('''\n",
    "    SELECT * FROM utoday_news;\n",
    "''')\n",
    "cur.fetchall()"
   ]
  },
  {
   "cell_type": "code",
   "execution_count": null,
   "metadata": {},
   "outputs": [],
   "source": [
    "cur.execute(\"ROLLBACK\")"
   ]
  },
  {
   "cell_type": "code",
   "execution_count": 92,
   "metadata": {},
   "outputs": [],
   "source": [
    "cur.execute('''\n",
    "    DELETE FROM utoday_news WHERE author = '';\n",
    "''')\n",
    "conn.commit()"
   ]
  }
 ],
 "metadata": {
  "kernelspec": {
   "display_name": "CAB_Module3",
   "language": "python",
   "name": "python3"
  },
  "language_info": {
   "codemirror_mode": {
    "name": "ipython",
    "version": 3
   },
   "file_extension": ".py",
   "mimetype": "text/x-python",
   "name": "python",
   "nbconvert_exporter": "python",
   "pygments_lexer": "ipython3",
   "version": "3.12.8"
  }
 },
 "nbformat": 4,
 "nbformat_minor": 2
}
