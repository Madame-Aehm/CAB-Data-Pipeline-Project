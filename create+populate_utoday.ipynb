{
 "cells": [
  {
   "cell_type": "code",
   "execution_count": null,
   "metadata": {},
   "outputs": [],
   "source": [
    "import requests\n",
    "import bs4\n",
    "from dotenv import load_dotenv\n",
    "import os\n",
    "import psycopg\n",
    "from datetime import datetime as dt\n",
    "\n",
    "load_dotenv()"
   ]
  },
  {
   "cell_type": "code",
   "execution_count": null,
   "metadata": {},
   "outputs": [],
   "source": [
    "dbconn = os.getenv(\"DBCONN\")\n",
    "conn = psycopg.connect(dbconn)\n",
    "cur = conn.cursor()"
   ]
  },
  {
   "cell_type": "code",
   "execution_count": null,
   "metadata": {},
   "outputs": [],
   "source": [
    "cur.execute('''\n",
    "    CREATE TABLE IF NOT EXISTS utoday_news(\n",
    "        title VARCHAR(255),\n",
    "        author VARCHAR(255),\n",
    "        link VARCHAR(255),\n",
    "        date DATE\n",
    "    );\n",
    "''')"
   ]
  },
  {
   "cell_type": "code",
   "execution_count": null,
   "metadata": {},
   "outputs": [],
   "source": [
    "conn.commit()"
   ]
  },
  {
   "cell_type": "code",
   "execution_count": null,
   "metadata": {},
   "outputs": [],
   "source": [
    "cur.close()\n",
    "conn.close()"
   ]
  },
  {
   "cell_type": "code",
   "execution_count": null,
   "metadata": {},
   "outputs": [],
   "source": [
    "response = requests.get(\"https://u.today/search/node?keys=bitcoin\")\n",
    "document = bs4.BeautifulSoup(response.text)\n",
    "news_items = document.select(\"div.search-result > .news__item\")"
   ]
  },
  {
   "cell_type": "code",
   "execution_count": null,
   "metadata": {},
   "outputs": [],
   "source": [
    "len(news_items)"
   ]
  },
  {
   "cell_type": "code",
   "execution_count": null,
   "metadata": {},
   "outputs": [],
   "source": [
    "add_to_db = []\n",
    "\n",
    "for item in news_items:\n",
    "    try: \n",
    "        data = []\n",
    "        data.append(item.select_one(\"div.news__item-title\").get_text()) # title\n",
    "        data.append(item.select_one(\"a.humble.humble--author\").get_text().split(\"\\n\")[0]) # author\n",
    "        data.append(item.select_one(\"div.humble\").get_text().split(\" - \")[0]) # date\n",
    "        data.append(item.select_one(\"a.news__item-body\")[\"href\"]) # link\n",
    "        add_to_db.append(data)\n",
    "    except: print(\"value missing\")"
   ]
  },
  {
   "cell_type": "code",
   "execution_count": null,
   "metadata": {},
   "outputs": [],
   "source": [
    "for item in add_to_db:\n",
    "    item[2] = dt.strptime(item[2], \"%b %d, %Y\")\n",
    "    cur.execute('''\n",
    "        INSERT INTO utoday_news (title, author, date, link)\n",
    "        VALUES (%s, %s, %s, %s);\n",
    "    ''', item)\n",
    "\n",
    "print(\"finished\")"
   ]
  },
  {
   "cell_type": "code",
   "execution_count": null,
   "metadata": {},
   "outputs": [],
   "source": [
    "cur.execute('''\n",
    "    ALTER TABLE utoday_news\n",
    "    ADD sentiment VARCHAR(255);\n",
    "''')"
   ]
  },
  {
   "cell_type": "code",
   "execution_count": null,
   "metadata": {},
   "outputs": [],
   "source": [
    "titles = cur.execute('''\n",
    "    SELECT title FROM utoday_news ORDER BY date DESC;\n",
    "''').fetchall()\n",
    "\n",
    "titles = [title[0] for title in titles]"
   ]
  },
  {
   "cell_type": "code",
   "execution_count": null,
   "metadata": {},
   "outputs": [],
   "source": [
    "hf_api_key = os.getenv(\"HF_API_KEY\")\n",
    "url = \"https://api-inference.huggingface.co/models/mrm8488/distilroberta-finetuned-financial-news-sentiment-analysis\"\n",
    "\n",
    "payload = { \"inputs\": titles }\n",
    "headers = { \"Authorization\": f\"Bearer {hf_api_key}\" }\n",
    "response = requests.post(url, headers=headers, json=payload)\n",
    "print(\"first response\", response)\n",
    "\n",
    "if response.status_code == 503:\n",
    "    headers[\"x-wait-for-model\"] = \"true\"\n",
    "    response = requests.post(url, headers=headers, json=payload)\n",
    "    print(\"second response\", response)"
   ]
  },
  {
   "cell_type": "code",
   "execution_count": null,
   "metadata": {},
   "outputs": [],
   "source": [
    "import json\n",
    "\n",
    "sentiment_results = response.json()[0]\n",
    "print(json.dumps(sentiment_results, indent=2))"
   ]
  },
  {
   "cell_type": "code",
   "execution_count": null,
   "metadata": {},
   "outputs": [],
   "source": [
    "len(sentiment_results), len(titles)"
   ]
  },
  {
   "cell_type": "code",
   "execution_count": null,
   "metadata": {},
   "outputs": [],
   "source": [
    "sentiment_results[0][\"label\"]"
   ]
  },
  {
   "cell_type": "code",
   "execution_count": null,
   "metadata": {},
   "outputs": [],
   "source": [
    "if len(sentiment_results) == len(titles):\n",
    "    for i in range(0, len(titles)):\n",
    "        label = sentiment_results[i][\"label\"]\n",
    "        # print(label)\n",
    "        cur.execute('''\n",
    "            UPDATE utoday_news\n",
    "            SET sentiment = %s\n",
    "            WHERE title = %s;\n",
    "        ''', (label, titles[i]))\n",
    "\n",
    "conn.commit()\n",
    "print(\"finished\")"
   ]
  },
  {
   "cell_type": "code",
   "execution_count": null,
   "metadata": {},
   "outputs": [],
   "source": [
    "cur.execute('''\n",
    "    SELECT * FROM utoday_news ORDER BY date LIMIT 1;\n",
    "''')\n",
    "cur.fetchall()"
   ]
  },
  {
   "cell_type": "code",
   "execution_count": null,
   "metadata": {},
   "outputs": [],
   "source": [
    "cur.execute('''\n",
    "    SELECT * FROM utoday_news;\n",
    "''')\n",
    "cur.fetchall()"
   ]
  },
  {
   "cell_type": "code",
   "execution_count": null,
   "metadata": {},
   "outputs": [],
   "source": [
    "cur.execute(\"ROLLBACK\")"
   ]
  },
  {
   "cell_type": "code",
   "execution_count": null,
   "metadata": {},
   "outputs": [],
   "source": [
    "cur.execute('''\n",
    "    DELETE FROM utoday_news WHERE author = '';\n",
    "''')\n",
    "conn.commit()"
   ]
  }
 ],
 "metadata": {
  "kernelspec": {
   "display_name": "CAB_Module3",
   "language": "python",
   "name": "python3"
  },
  "language_info": {
   "codemirror_mode": {
    "name": "ipython",
    "version": 3
   },
   "file_extension": ".py",
   "mimetype": "text/x-python",
   "name": "python",
   "nbconvert_exporter": "python",
   "pygments_lexer": "ipython3",
   "version": "3.12.8"
  }
 },
 "nbformat": 4,
 "nbformat_minor": 2
}
