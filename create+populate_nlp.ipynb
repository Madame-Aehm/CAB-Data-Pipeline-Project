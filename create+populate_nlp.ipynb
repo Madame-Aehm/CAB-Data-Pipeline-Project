{
 "cells": [
  {
   "cell_type": "code",
   "execution_count": null,
   "metadata": {},
   "outputs": [],
   "source": [
    "import requests\n",
    "from dotenv import load_dotenv\n",
    "import os\n",
    "import psycopg\n",
    "\n",
    "load_dotenv()"
   ]
  },
  {
   "cell_type": "code",
   "execution_count": 41,
   "metadata": {},
   "outputs": [],
   "source": [
    "dbconn = os.getenv(\"DBCONN\")\n",
    "conn = psycopg.connect(dbconn)\n",
    "cur = conn.cursor()"
   ]
  },
  {
   "cell_type": "code",
   "execution_count": null,
   "metadata": {},
   "outputs": [],
   "source": [
    "cur.execute('''\n",
    "ALTER TABLE financial_times_scaped\n",
    "ADD sentiment VARCHAR(255);\n",
    "''')"
   ]
  },
  {
   "cell_type": "code",
   "execution_count": 65,
   "metadata": {},
   "outputs": [],
   "source": [
    "conn.commit()"
   ]
  },
  {
   "cell_type": "code",
   "execution_count": null,
   "metadata": {},
   "outputs": [],
   "source": [
    "headings = cur.execute('''\n",
    "SELECT heading FROM financial_times_scaped ORDER BY date DESC;\n",
    "''').fetchall()\n",
    "\n",
    "headings = [heading[0] for heading in headings]"
   ]
  },
  {
   "cell_type": "code",
   "execution_count": null,
   "metadata": {},
   "outputs": [],
   "source": [
    "hf_api_key = os.getenv(\"HF_API_KEY\")\n",
    "url = \"https://api-inference.huggingface.co/models/mrm8488/distilroberta-finetuned-financial-news-sentiment-analysis\"\n",
    "\n",
    "payload = { \"inputs\": headings }\n",
    "headers = { \"Authorization\": f\"Bearer {hf_api_key}\" }\n",
    "response = requests.post(url, headers=headers, json=payload)\n",
    "print(\"first response\", response)\n",
    "\n",
    "if response.status_code == 503:\n",
    "  headers[\"x-wait-for-model\"] = \"true\"\n",
    "  response = requests.post(url, headers=headers, json=payload)\n",
    "  print(\"second response\", response)"
   ]
  },
  {
   "cell_type": "code",
   "execution_count": null,
   "metadata": {},
   "outputs": [],
   "source": [
    "import json\n",
    "\n",
    "sentiment_results = response.json()\n",
    "print(json.dumps(sentiment_results, indent=2))\n"
   ]
  },
  {
   "cell_type": "code",
   "execution_count": null,
   "metadata": {},
   "outputs": [],
   "source": [
    "# check that headings are actually unique\n",
    "# cur.execute('''\n",
    "# SELECT heading, COUNT(heading) FROM financial_times_scaped\n",
    "# GROUP BY heading\n",
    "# HAVING COUNT(heading) > 1\n",
    "# ''')\n",
    "\n",
    "# print(cur.fetchall())"
   ]
  },
  {
   "cell_type": "code",
   "execution_count": null,
   "metadata": {},
   "outputs": [],
   "source": [
    "if len(sentiment_results) == len(headings):\n",
    "  for i in range(0, len(headings)):\n",
    "    label = sentiment_results[i][0][\"label\"]\n",
    "    cur.execute('''\n",
    "    UPDATE financial_times_scaped\n",
    "    SET sentiment = %s\n",
    "    WHERE heading = %s;\n",
    "    ''', (label, headings[i]))\n",
    "\n",
    "conn.commit()"
   ]
  },
  {
   "cell_type": "code",
   "execution_count": 66,
   "metadata": {},
   "outputs": [],
   "source": [
    "cur.close()\n",
    "conn.close()"
   ]
  },
  {
   "cell_type": "code",
   "execution_count": null,
   "metadata": {},
   "outputs": [],
   "source": [
    "# reset cursor after error\n",
    "# cur.execute(\"ROLLBACK\")"
   ]
  }
 ],
 "metadata": {
  "kernelspec": {
   "display_name": "CAB_Module_3",
   "language": "python",
   "name": "python3"
  },
  "language_info": {
   "codemirror_mode": {
    "name": "ipython",
    "version": 3
   },
   "file_extension": ".py",
   "mimetype": "text/x-python",
   "name": "python",
   "nbconvert_exporter": "python",
   "pygments_lexer": "ipython3",
   "version": "3.11.9"
  }
 },
 "nbformat": 4,
 "nbformat_minor": 2
}
