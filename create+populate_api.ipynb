{
 "cells": [
  {
   "cell_type": "code",
   "execution_count": null,
   "metadata": {},
   "outputs": [],
   "source": [
    "import psycopg\n",
    "from dotenv import load_dotenv\n",
    "import os\n",
    "\n",
    "load_dotenv()"
   ]
  },
  {
   "cell_type": "code",
   "execution_count": null,
   "metadata": {},
   "outputs": [],
   "source": [
    "api_key = os.getenv(\"WEATHER_APIKEY\")\n",
    "api_key"
   ]
  },
  {
   "cell_type": "code",
   "execution_count": 3,
   "metadata": {},
   "outputs": [],
   "source": [
    "time_series = []"
   ]
  },
  {
   "cell_type": "code",
   "execution_count": null,
   "metadata": {},
   "outputs": [],
   "source": [
    "import requests\n",
    "\n",
    "response = requests.get(f\"https://www.alphavantage.co/query?function=DIGITAL_CURRENCY_DAILY&symbol=BTC&market=EUR&apikey={api_key}\")\n",
    "\n",
    "if response.status_code == 200:\n",
    "  data = response.json()\n",
    "  for date in data[\"Time Series (Digital Currency Daily)\"]:\n",
    "    values = [date]\n",
    "    for value in data[\"Time Series (Digital Currency Daily)\"][date].values():\n",
    "      values.append(float(value))\n",
    "    time_series.append(tuple(values))\n",
    "\n",
    "print(time_series)"
   ]
  },
  {
   "cell_type": "code",
   "execution_count": null,
   "metadata": {},
   "outputs": [],
   "source": [
    "dbconn = os.getenv(\"DBCONN\")\n",
    "dbconn"
   ]
  },
  {
   "cell_type": "code",
   "execution_count": 33,
   "metadata": {},
   "outputs": [],
   "source": [
    "conn = psycopg.connect(dbconn)\n",
    "cur = conn.cursor()"
   ]
  },
  {
   "cell_type": "code",
   "execution_count": 36,
   "metadata": {},
   "outputs": [],
   "source": [
    "cur.close()\n",
    "conn.close()"
   ]
  },
  {
   "cell_type": "code",
   "execution_count": null,
   "metadata": {},
   "outputs": [],
   "source": [
    "cur.execute('''\n",
    "DROP TABLE bitcoin_api_data;\n",
    "''')"
   ]
  },
  {
   "cell_type": "code",
   "execution_count": null,
   "metadata": {},
   "outputs": [],
   "source": [
    "cur.execute('''\n",
    "CREATE TABLE IF NOT EXISTS bitcoin_api_data(\n",
    "    date TIMESTAMP PRIMARY KEY,\n",
    "    open FLOAT,\n",
    "    high FLOAT,\n",
    "    low FLOAT,\n",
    "    close FLOAT,\n",
    "    volume FLOAT\n",
    ");\n",
    "''')"
   ]
  },
  {
   "cell_type": "code",
   "execution_count": 35,
   "metadata": {},
   "outputs": [],
   "source": [
    "conn.commit()"
   ]
  },
  {
   "cell_type": "code",
   "execution_count": 34,
   "metadata": {},
   "outputs": [],
   "source": [
    "for item in time_series:\n",
    "  cur.execute(\n",
    "    '''\n",
    "      INSERT INTO bitcoin_api_data(date, open, high, low, close, volume)\n",
    "      VALUES (%s, %s, %s, %s, %s, %s);\n",
    "    ''', \n",
    "    item\n",
    "  )"
   ]
  }
 ],
 "metadata": {
  "kernelspec": {
   "display_name": "CAB_Module_3",
   "language": "python",
   "name": "python3"
  },
  "language_info": {
   "codemirror_mode": {
    "name": "ipython",
    "version": 3
   },
   "file_extension": ".py",
   "mimetype": "text/x-python",
   "name": "python",
   "nbconvert_exporter": "python",
   "pygments_lexer": "ipython3",
   "version": "3.11.9"
  }
 },
 "nbformat": 4,
 "nbformat_minor": 2
}
