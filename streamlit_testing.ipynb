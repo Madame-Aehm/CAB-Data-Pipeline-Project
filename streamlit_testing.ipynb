{
 "cells": [
  {
   "cell_type": "code",
   "execution_count": null,
   "metadata": {},
   "outputs": [],
   "source": [
    "import streamlit as st \n",
    "import pandas as pd\n",
    "import psycopg\n",
    "from dotenv import load_dotenv\n",
    "import os\n",
    "\n",
    "load_dotenv()"
   ]
  },
  {
   "cell_type": "code",
   "execution_count": null,
   "metadata": {},
   "outputs": [],
   "source": [
    "dbconn = os.getenv(\"DBCONN\")\n",
    "conn = psycopg.connect(dbconn)\n",
    "cur = conn.cursor()"
   ]
  },
  {
   "cell_type": "code",
   "execution_count": null,
   "metadata": {},
   "outputs": [],
   "source": [
    "cur.execute('''\n",
    "  SELECT * FROM financial_times_scaped;\n",
    "''')\n",
    "data = cur.fetchall()\n",
    "ft_data = pd.DataFrame(data, columns=[\"tag\", \"link\", \"heading\", \"teaser\", \"date\"])\n",
    "ft_data.head()"
   ]
  },
  {
   "cell_type": "code",
   "execution_count": null,
   "metadata": {},
   "outputs": [],
   "source": [
    "cur.execute('''\n",
    "  SELECT * FROM bitcoin_api_data;\n",
    "''')\n",
    "data = cur.fetchall()\n",
    "av_data = pd.DataFrame(data, columns=[\"date\", \"open\", \"high\", \"low\", \"close\", \"volume\"])\n",
    "av_data"
   ]
  }
 ],
 "metadata": {
  "kernelspec": {
   "display_name": "CAB_Module_3",
   "language": "python",
   "name": "python3"
  },
  "language_info": {
   "codemirror_mode": {
    "name": "ipython",
    "version": 3
   },
   "file_extension": ".py",
   "mimetype": "text/x-python",
   "name": "python",
   "nbconvert_exporter": "python",
   "pygments_lexer": "ipython3",
   "version": "3.11.9"
  }
 },
 "nbformat": 4,
 "nbformat_minor": 2
}
