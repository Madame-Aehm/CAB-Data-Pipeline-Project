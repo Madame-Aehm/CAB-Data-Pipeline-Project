{
 "cells": [
  {
   "cell_type": "code",
   "execution_count": null,
   "metadata": {},
   "outputs": [],
   "source": [
    "import requests\n",
    "import bs4\n",
    "from dotenv import load_dotenv\n",
    "import os\n",
    "import psycopg\n",
    "\n",
    "load_dotenv()"
   ]
  },
  {
   "cell_type": "code",
   "execution_count": null,
   "metadata": {},
   "outputs": [],
   "source": [
    "dbconn = os.getenv(\"DBCONN\")\n",
    "dbconn"
   ]
  },
  {
   "cell_type": "code",
   "execution_count": 3,
   "metadata": {},
   "outputs": [],
   "source": [
    "conn = psycopg.connect(dbconn)\n",
    "cur = conn.cursor()"
   ]
  },
  {
   "cell_type": "code",
   "execution_count": 4,
   "metadata": {},
   "outputs": [],
   "source": [
    "# cur.execute('''\n",
    "# CREATE TABLE IF NOT EXISTS financial_times_scaped(\n",
    "#     tag VARCHAR(255),\n",
    "#     link VARCHAR(255),\n",
    "#     heading VARCHAR(255),\n",
    "#     teaser VARCHAR(255),\n",
    "#     date TIMESTAMP,\n",
    "#     FOREIGN KEY (date) REFERENCES bitcoin_api_data(date)\n",
    "# );\n",
    "# ''')"
   ]
  },
  {
   "cell_type": "code",
   "execution_count": 5,
   "metadata": {},
   "outputs": [],
   "source": [
    "def results_for_date(date):\n",
    "  response = requests.get(f\"https://www.ft.com/search?q=bitcoin&dateFrom={date}&dateTo={date}&sort=relevance\")\n",
    "  scraped_date = []\n",
    "  print(response.status_code)\n",
    "  if response.status_code == 200:\n",
    "    soup = bs4.BeautifulSoup(response.text, 'lxml')\n",
    "    limit = 5\n",
    "    search_results = soup.select(\"div.o-teaser__content\", limit=limit)\n",
    "    for result in search_results:\n",
    "      scraped = [date]\n",
    "      try:\n",
    "        scraped.append(result.select_one(\"a.o-teaser__tag\").get_text())\n",
    "      except:\n",
    "        scraped.append(\"\")\n",
    "      try:\n",
    "        scraped.append(result.select_one(\"a.js-teaser-heading-link\").get_text())\n",
    "      except:\n",
    "        scraped.append(\"\")\n",
    "      try:\n",
    "        scraped.append(result.select_one(\"a.js-teaser-heading-link\")[\"href\"])\n",
    "      except:\n",
    "        scraped.append(\"\")\n",
    "      try:\n",
    "        scraped.append(result.select_one(\"p.o-teaser__standfirst > a\").get_text())\n",
    "      except:\n",
    "        scraped.append(\"\")\n",
    "      scraped_date.append(tuple(scraped))\n",
    "  return scraped_date"
   ]
  },
  {
   "cell_type": "code",
   "execution_count": null,
   "metadata": {},
   "outputs": [],
   "source": [
    "cur.execute('''\n",
    "SELECT date FROM bitcoin_api_data WHERE date < '2024-08-02'::date ORDER BY date DESC;\n",
    "''')"
   ]
  },
  {
   "cell_type": "code",
   "execution_count": 7,
   "metadata": {},
   "outputs": [],
   "source": [
    "date_times = cur.fetchall()\n",
    "dates = [date[0].strftime('%Y-%m-%d') for date in date_times]"
   ]
  },
  {
   "cell_type": "code",
   "execution_count": null,
   "metadata": {},
   "outputs": [],
   "source": [
    "print(len(dates), \"remaining\")"
   ]
  },
  {
   "cell_type": "code",
   "execution_count": null,
   "metadata": {},
   "outputs": [],
   "source": [
    "# only does ∼10 days before 406\n",
    "for date in dates:\n",
    "  scraped = results_for_date(date)\n",
    "  print(scraped)\n",
    "  if len(scraped) == 0:\n",
    "    break\n",
    "  for item in scraped:\n",
    "    print(\"adding item\", item)\n",
    "    cur.execute(\n",
    "      '''\n",
    "        INSERT INTO financial_times_scaped(date, tag, heading, link, teaser)\n",
    "        VALUES (%s, %s, %s, %s, %s);\n",
    "      ''', \n",
    "      item\n",
    "    )\n",
    "print(\"done\")"
   ]
  },
  {
   "cell_type": "code",
   "execution_count": 10,
   "metadata": {},
   "outputs": [],
   "source": [
    "# cur.execute(\n",
    "#   '''TRUNCATE TABLE financial_times_scaped;'''\n",
    "# )"
   ]
  },
  {
   "cell_type": "code",
   "execution_count": 11,
   "metadata": {},
   "outputs": [],
   "source": [
    "conn.commit()\n",
    "cur.close()\n",
    "conn.close()"
   ]
  }
 ],
 "metadata": {
  "kernelspec": {
   "display_name": "CAB_Module_3",
   "language": "python",
   "name": "python3"
  },
  "language_info": {
   "codemirror_mode": {
    "name": "ipython",
    "version": 3
   },
   "file_extension": ".py",
   "mimetype": "text/x-python",
   "name": "python",
   "nbconvert_exporter": "python",
   "pygments_lexer": "ipython3",
   "version": "3.11.9"
  }
 },
 "nbformat": 4,
 "nbformat_minor": 2
}
