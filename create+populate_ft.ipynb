{
 "cells": [
  {
   "cell_type": "code",
   "execution_count": 1,
   "metadata": {},
   "outputs": [
    {
     "data": {
      "text/plain": [
       "True"
      ]
     },
     "execution_count": 1,
     "metadata": {},
     "output_type": "execute_result"
    }
   ],
   "source": [
    "import requests\n",
    "import bs4\n",
    "from dotenv import load_dotenv\n",
    "import os\n",
    "import psycopg\n",
    "\n",
    "load_dotenv()"
   ]
  },
  {
   "cell_type": "code",
   "execution_count": 2,
   "metadata": {},
   "outputs": [],
   "source": [
    "dbconn = os.getenv(\"DBCONN\")\n",
    "conn = psycopg.connect(dbconn)\n",
    "cur = conn.cursor()"
   ]
  },
  {
   "cell_type": "code",
   "execution_count": 7,
   "metadata": {},
   "outputs": [],
   "source": [
    "cur.execute('''\n",
    "    DROP TABLE testing;\n",
    "''')\n",
    "conn.commit()"
   ]
  },
  {
   "cell_type": "code",
   "execution_count": 3,
   "metadata": {},
   "outputs": [],
   "source": [
    "cur.close()\n",
    "conn.close()"
   ]
  },
  {
   "cell_type": "code",
   "execution_count": 55,
   "metadata": {},
   "outputs": [],
   "source": [
    "# cur.execute('''\n",
    "# CREATE TABLE IF NOT EXISTS financial_times_scaped(\n",
    "#     tag VARCHAR(255),\n",
    "#     link VARCHAR(255) PRIMARY KEY,\n",
    "#     heading VARCHAR(255),\n",
    "#     teaser VARCHAR(255),\n",
    "#     date TIMESTAMP,\n",
    "#     FOREIGN KEY (date) REFERENCES bitcoin_api_data(date)\n",
    "# );\n",
    "# ''')"
   ]
  },
  {
   "cell_type": "code",
   "execution_count": 8,
   "metadata": {},
   "outputs": [],
   "source": [
    "def results_for_date(date):\n",
    "  headers = {\n",
    "    \"User-Agent\": \"Mozilla/5.0 (Windows NT 10.0; Win64; x64) AppleWebKit/537.36 (KHTML, like Gecko) Chrome/120.0.0.0 Safari/537.36\",\n",
    "    \"Accept\": \"text/html,application/xhtml+xml,application/xml;q=0.9,image/webp,/;q=0.8\",\n",
    "    \"Accept-Language\": \"en-US,en;q=0.5\",\n",
    "    \"Connection\": \"keep-alive\",\n",
    "    \"DNT\": \"1\",  # Do Not Track header\n",
    "    \"Upgrade-Insecure-Requests\": \"1\",\n",
    "  }\n",
    "  response = requests.get(f\"https://www.ft.com/search?q=bitcoin&dateFrom={date}&dateTo={date}&sort=relevance\", headers=headers)\n",
    "  scraped_date = []\n",
    "  print(response.status_code)\n",
    "  if response.status_code == 200:\n",
    "    soup = bs4.BeautifulSoup(response.text, 'html.parser')\n",
    "    limit = 5\n",
    "    search_results = soup.select(\"div.o-teaser__content\", limit=limit)\n",
    "    for result in search_results:\n",
    "      scraped = [date]\n",
    "      try:\n",
    "        scraped.append(result.select_one(\"a.o-teaser__tag\").get_text())\n",
    "      except:\n",
    "        scraped.append(\"\")\n",
    "      try:\n",
    "        scraped.append(result.select_one(\"a.js-teaser-heading-link\").get_text())\n",
    "      except:\n",
    "        scraped.append(\"\")\n",
    "      try:\n",
    "        scraped.append(result.select_one(\"a.js-teaser-heading-link\")[\"href\"])\n",
    "      except:\n",
    "        scraped.append(\"\")\n",
    "      try:\n",
    "        scraped.append(result.select_one(\"p.o-teaser__standfirst > a\").get_text())\n",
    "      except:\n",
    "        scraped.append(\"\")\n",
    "      scraped_date.append(tuple(scraped))\n",
    "  return scraped_date"
   ]
  },
  {
   "cell_type": "code",
   "execution_count": 9,
   "metadata": {},
   "outputs": [
    {
     "name": "stdout",
     "output_type": "stream",
     "text": [
      "200\n"
     ]
    },
    {
     "data": {
      "text/plain": [
       "[('2024-04-03',\n",
       "  'Capital markets',\n",
       "  'Abolishing AT1s would be a serious mistake',\n",
       "  'https://www.ft.com/content/69e5e619-2686-4ce7-95d4-94bc8c6ee213',\n",
       "  'Dutch government has floated idea of ditching capital instrument that is indispensable for issuers and investors'),\n",
       " ('2024-04-03',\n",
       "  'Gold',\n",
       "  'Gold hits new high as investors seek hedge against stubborn inflation',\n",
       "  'https://www.ft.com/content/fa1b68ab-5b4e-4574-ba4e-224dcf9cc189',\n",
       "  'Price of metal climbs to record of $2,295 a troy ounce'),\n",
       " ('2024-04-03',\n",
       "  'FT High-Growth Companies Asia-Pacific',\n",
       "  'Australia’s Commonwealth Bank tie-in gives More Telecom a boost',\n",
       "  'https://www.ft.com/content/432d226f-2144-4df3-b7db-06d7999c7b35',\n",
       "  'Small Melbourne-based telecoms company is thriving with investment from the country’s largest bank'),\n",
       " ('2024-04-03',\n",
       "  'Live blog from April 3 2024',\n",
       "  'Markets update: South Korea leads losses in Asia as equities follow US lower',\n",
       "  '/content/821f5fa6-5c9d-40ce-8a1a-d682510270b6#post-f14a1488-a200-469a-8c7e-d8c58c690957',\n",
       "  'South Korean equities led losses in Asia, with the broader region’s stock markets also following the US lower on Wednesday. The country’s Kospi index ...'),\n",
       " ('2024-04-03',\n",
       "  'World',\n",
       "  'FirstFT: End of the ‘megafund’ era for venture capital',\n",
       "  'https://www.ft.com/content/2d4f5199-45e0-48da-ab3b-11b223fb1550',\n",
       "  'Also in today’s newsletter, eurozone inflation drops to 2.4% and Nato ministers in talks to create $100bn fund for Ukraine')]"
      ]
     },
     "execution_count": 9,
     "metadata": {},
     "output_type": "execute_result"
    }
   ],
   "source": [
    "results_for_date(\"2024-04-03\")"
   ]
  },
  {
   "cell_type": "code",
   "execution_count": null,
   "metadata": {},
   "outputs": [],
   "source": [
    "last_date = '2024-02-06'\n",
    "\n",
    "cur.execute('''\n",
    "SELECT date FROM bitcoin_api_data WHERE date < '%s'::date ORDER BY date DESC;\n",
    "''', last_date)"
   ]
  },
  {
   "cell_type": "code",
   "execution_count": 58,
   "metadata": {},
   "outputs": [],
   "source": [
    "date_times = cur.fetchall()\n",
    "dates = [date[0].strftime('%Y-%m-%d') for date in date_times]"
   ]
  },
  {
   "cell_type": "code",
   "execution_count": null,
   "metadata": {},
   "outputs": [],
   "source": [
    "print(len(dates), \"remaining\")"
   ]
  },
  {
   "cell_type": "code",
   "execution_count": null,
   "metadata": {},
   "outputs": [],
   "source": [
    "# only does ∼10 days before 406\n",
    "for date in dates:\n",
    "  scraped = results_for_date(date)\n",
    "  print(scraped)\n",
    "  if len(scraped) == 0:\n",
    "    break\n",
    "  for item in scraped:\n",
    "    print(\"adding item\", item)\n",
    "    cur.execute(\n",
    "      '''\n",
    "        INSERT INTO financial_times_scaped(date, tag, heading, link, teaser)\n",
    "        VALUES (%s, %s, %s, %s, %s);\n",
    "      ''', \n",
    "      item\n",
    "    )\n",
    "print(\"done\")"
   ]
  },
  {
   "cell_type": "code",
   "execution_count": 61,
   "metadata": {},
   "outputs": [],
   "source": [
    "# cur.execute(\n",
    "#   '''TRUNCATE TABLE financial_times_scaped;'''\n",
    "# )"
   ]
  },
  {
   "cell_type": "code",
   "execution_count": 62,
   "metadata": {},
   "outputs": [],
   "source": [
    "conn.commit()\n",
    "cur.close()\n",
    "conn.close()"
   ]
  }
 ],
 "metadata": {
  "kernelspec": {
   "display_name": "CAB_Module3",
   "language": "python",
   "name": "python3"
  },
  "language_info": {
   "codemirror_mode": {
    "name": "ipython",
    "version": 3
   },
   "file_extension": ".py",
   "mimetype": "text/x-python",
   "name": "python",
   "nbconvert_exporter": "python",
   "pygments_lexer": "ipython3",
   "version": "3.12.8"
  }
 },
 "nbformat": 4,
 "nbformat_minor": 2
}
